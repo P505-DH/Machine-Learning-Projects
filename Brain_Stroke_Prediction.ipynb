{
 "cells": [
  {
   "cell_type": "markdown",
   "id": "c16614dd",
   "metadata": {},
   "source": [
    "# Importing Libraries"
   ]
  },
  {
   "cell_type": "code",
   "execution_count": 1,
   "id": "a0ef03e8",
   "metadata": {},
   "outputs": [],
   "source": [
    "import numpy as np\n",
    "import pandas as pd\n",
    "import matplotlib.pyplot as plt\n",
    "%matplotlib inline\n",
    "import seaborn as sns\n",
    "\n",
    "\n",
    "import warnings\n",
    "warnings.filterwarnings(\"ignore\")"
   ]
  },
  {
   "cell_type": "code",
   "execution_count": 2,
   "id": "20e6dd56",
   "metadata": {},
   "outputs": [],
   "source": [
    "bs=pd.read_csv(\"healthcare-dataset-stroke-data.csv\")"
   ]
  },
  {
   "cell_type": "code",
   "execution_count": 3,
   "id": "a599511d",
   "metadata": {},
   "outputs": [
    {
     "data": {
      "text/html": [
       "<div>\n",
       "<style scoped>\n",
       "    .dataframe tbody tr th:only-of-type {\n",
       "        vertical-align: middle;\n",
       "    }\n",
       "\n",
       "    .dataframe tbody tr th {\n",
       "        vertical-align: top;\n",
       "    }\n",
       "\n",
       "    .dataframe thead th {\n",
       "        text-align: right;\n",
       "    }\n",
       "</style>\n",
       "<table border=\"1\" class=\"dataframe\">\n",
       "  <thead>\n",
       "    <tr style=\"text-align: right;\">\n",
       "      <th></th>\n",
       "      <th>id</th>\n",
       "      <th>gender</th>\n",
       "      <th>age</th>\n",
       "      <th>hypertension</th>\n",
       "      <th>heart_disease</th>\n",
       "      <th>ever_married</th>\n",
       "      <th>work_type</th>\n",
       "      <th>Residence_type</th>\n",
       "      <th>avg_glucose_level</th>\n",
       "      <th>bmi</th>\n",
       "      <th>smoking_status</th>\n",
       "      <th>stroke</th>\n",
       "    </tr>\n",
       "  </thead>\n",
       "  <tbody>\n",
       "    <tr>\n",
       "      <th>0</th>\n",
       "      <td>9046</td>\n",
       "      <td>Male</td>\n",
       "      <td>67.0</td>\n",
       "      <td>0</td>\n",
       "      <td>1</td>\n",
       "      <td>Yes</td>\n",
       "      <td>Private</td>\n",
       "      <td>Urban</td>\n",
       "      <td>228.69</td>\n",
       "      <td>36.6</td>\n",
       "      <td>formerly smoked</td>\n",
       "      <td>1</td>\n",
       "    </tr>\n",
       "    <tr>\n",
       "      <th>1</th>\n",
       "      <td>51676</td>\n",
       "      <td>Female</td>\n",
       "      <td>61.0</td>\n",
       "      <td>0</td>\n",
       "      <td>0</td>\n",
       "      <td>Yes</td>\n",
       "      <td>Self-employed</td>\n",
       "      <td>Rural</td>\n",
       "      <td>202.21</td>\n",
       "      <td>NaN</td>\n",
       "      <td>never smoked</td>\n",
       "      <td>1</td>\n",
       "    </tr>\n",
       "    <tr>\n",
       "      <th>2</th>\n",
       "      <td>31112</td>\n",
       "      <td>Male</td>\n",
       "      <td>80.0</td>\n",
       "      <td>0</td>\n",
       "      <td>1</td>\n",
       "      <td>Yes</td>\n",
       "      <td>Private</td>\n",
       "      <td>Rural</td>\n",
       "      <td>105.92</td>\n",
       "      <td>32.5</td>\n",
       "      <td>never smoked</td>\n",
       "      <td>1</td>\n",
       "    </tr>\n",
       "    <tr>\n",
       "      <th>3</th>\n",
       "      <td>60182</td>\n",
       "      <td>Female</td>\n",
       "      <td>49.0</td>\n",
       "      <td>0</td>\n",
       "      <td>0</td>\n",
       "      <td>Yes</td>\n",
       "      <td>Private</td>\n",
       "      <td>Urban</td>\n",
       "      <td>171.23</td>\n",
       "      <td>34.4</td>\n",
       "      <td>smokes</td>\n",
       "      <td>1</td>\n",
       "    </tr>\n",
       "    <tr>\n",
       "      <th>4</th>\n",
       "      <td>1665</td>\n",
       "      <td>Female</td>\n",
       "      <td>79.0</td>\n",
       "      <td>1</td>\n",
       "      <td>0</td>\n",
       "      <td>Yes</td>\n",
       "      <td>Self-employed</td>\n",
       "      <td>Rural</td>\n",
       "      <td>174.12</td>\n",
       "      <td>24.0</td>\n",
       "      <td>never smoked</td>\n",
       "      <td>1</td>\n",
       "    </tr>\n",
       "  </tbody>\n",
       "</table>\n",
       "</div>"
      ],
      "text/plain": [
       "      id  gender   age  hypertension  heart_disease ever_married  \\\n",
       "0   9046    Male  67.0             0              1          Yes   \n",
       "1  51676  Female  61.0             0              0          Yes   \n",
       "2  31112    Male  80.0             0              1          Yes   \n",
       "3  60182  Female  49.0             0              0          Yes   \n",
       "4   1665  Female  79.0             1              0          Yes   \n",
       "\n",
       "       work_type Residence_type  avg_glucose_level   bmi   smoking_status  \\\n",
       "0        Private          Urban             228.69  36.6  formerly smoked   \n",
       "1  Self-employed          Rural             202.21   NaN     never smoked   \n",
       "2        Private          Rural             105.92  32.5     never smoked   \n",
       "3        Private          Urban             171.23  34.4           smokes   \n",
       "4  Self-employed          Rural             174.12  24.0     never smoked   \n",
       "\n",
       "   stroke  \n",
       "0       1  \n",
       "1       1  \n",
       "2       1  \n",
       "3       1  \n",
       "4       1  "
      ]
     },
     "execution_count": 3,
     "metadata": {},
     "output_type": "execute_result"
    }
   ],
   "source": [
    "bs.head()"
   ]
  },
  {
   "cell_type": "code",
   "execution_count": 4,
   "id": "9b3557b9",
   "metadata": {},
   "outputs": [
    {
     "data": {
      "text/html": [
       "<div>\n",
       "<style scoped>\n",
       "    .dataframe tbody tr th:only-of-type {\n",
       "        vertical-align: middle;\n",
       "    }\n",
       "\n",
       "    .dataframe tbody tr th {\n",
       "        vertical-align: top;\n",
       "    }\n",
       "\n",
       "    .dataframe thead th {\n",
       "        text-align: right;\n",
       "    }\n",
       "</style>\n",
       "<table border=\"1\" class=\"dataframe\">\n",
       "  <thead>\n",
       "    <tr style=\"text-align: right;\">\n",
       "      <th></th>\n",
       "      <th>id</th>\n",
       "      <th>gender</th>\n",
       "      <th>age</th>\n",
       "      <th>hypertension</th>\n",
       "      <th>heart_disease</th>\n",
       "      <th>ever_married</th>\n",
       "      <th>work_type</th>\n",
       "      <th>Residence_type</th>\n",
       "      <th>avg_glucose_level</th>\n",
       "      <th>bmi</th>\n",
       "      <th>smoking_status</th>\n",
       "      <th>stroke</th>\n",
       "    </tr>\n",
       "  </thead>\n",
       "  <tbody>\n",
       "    <tr>\n",
       "      <th>5105</th>\n",
       "      <td>18234</td>\n",
       "      <td>Female</td>\n",
       "      <td>80.0</td>\n",
       "      <td>1</td>\n",
       "      <td>0</td>\n",
       "      <td>Yes</td>\n",
       "      <td>Private</td>\n",
       "      <td>Urban</td>\n",
       "      <td>83.75</td>\n",
       "      <td>NaN</td>\n",
       "      <td>never smoked</td>\n",
       "      <td>0</td>\n",
       "    </tr>\n",
       "    <tr>\n",
       "      <th>5106</th>\n",
       "      <td>44873</td>\n",
       "      <td>Female</td>\n",
       "      <td>81.0</td>\n",
       "      <td>0</td>\n",
       "      <td>0</td>\n",
       "      <td>Yes</td>\n",
       "      <td>Self-employed</td>\n",
       "      <td>Urban</td>\n",
       "      <td>125.20</td>\n",
       "      <td>40.0</td>\n",
       "      <td>never smoked</td>\n",
       "      <td>0</td>\n",
       "    </tr>\n",
       "    <tr>\n",
       "      <th>5107</th>\n",
       "      <td>19723</td>\n",
       "      <td>Female</td>\n",
       "      <td>35.0</td>\n",
       "      <td>0</td>\n",
       "      <td>0</td>\n",
       "      <td>Yes</td>\n",
       "      <td>Self-employed</td>\n",
       "      <td>Rural</td>\n",
       "      <td>82.99</td>\n",
       "      <td>30.6</td>\n",
       "      <td>never smoked</td>\n",
       "      <td>0</td>\n",
       "    </tr>\n",
       "    <tr>\n",
       "      <th>5108</th>\n",
       "      <td>37544</td>\n",
       "      <td>Male</td>\n",
       "      <td>51.0</td>\n",
       "      <td>0</td>\n",
       "      <td>0</td>\n",
       "      <td>Yes</td>\n",
       "      <td>Private</td>\n",
       "      <td>Rural</td>\n",
       "      <td>166.29</td>\n",
       "      <td>25.6</td>\n",
       "      <td>formerly smoked</td>\n",
       "      <td>0</td>\n",
       "    </tr>\n",
       "    <tr>\n",
       "      <th>5109</th>\n",
       "      <td>44679</td>\n",
       "      <td>Female</td>\n",
       "      <td>44.0</td>\n",
       "      <td>0</td>\n",
       "      <td>0</td>\n",
       "      <td>Yes</td>\n",
       "      <td>Govt_job</td>\n",
       "      <td>Urban</td>\n",
       "      <td>85.28</td>\n",
       "      <td>26.2</td>\n",
       "      <td>Unknown</td>\n",
       "      <td>0</td>\n",
       "    </tr>\n",
       "  </tbody>\n",
       "</table>\n",
       "</div>"
      ],
      "text/plain": [
       "         id  gender   age  hypertension  heart_disease ever_married  \\\n",
       "5105  18234  Female  80.0             1              0          Yes   \n",
       "5106  44873  Female  81.0             0              0          Yes   \n",
       "5107  19723  Female  35.0             0              0          Yes   \n",
       "5108  37544    Male  51.0             0              0          Yes   \n",
       "5109  44679  Female  44.0             0              0          Yes   \n",
       "\n",
       "          work_type Residence_type  avg_glucose_level   bmi   smoking_status  \\\n",
       "5105        Private          Urban              83.75   NaN     never smoked   \n",
       "5106  Self-employed          Urban             125.20  40.0     never smoked   \n",
       "5107  Self-employed          Rural              82.99  30.6     never smoked   \n",
       "5108        Private          Rural             166.29  25.6  formerly smoked   \n",
       "5109       Govt_job          Urban              85.28  26.2          Unknown   \n",
       "\n",
       "      stroke  \n",
       "5105       0  \n",
       "5106       0  \n",
       "5107       0  \n",
       "5108       0  \n",
       "5109       0  "
      ]
     },
     "execution_count": 4,
     "metadata": {},
     "output_type": "execute_result"
    }
   ],
   "source": [
    "bs.tail()"
   ]
  },
  {
   "cell_type": "markdown",
   "id": "ba236053",
   "metadata": {},
   "source": [
    "# Basic Data Exploration\n"
   ]
  },
  {
   "cell_type": "code",
   "execution_count": 5,
   "id": "c58857d2",
   "metadata": {},
   "outputs": [
    {
     "data": {
      "text/plain": [
       "(5110, 12)"
      ]
     },
     "execution_count": 5,
     "metadata": {},
     "output_type": "execute_result"
    }
   ],
   "source": [
    "bs.shape"
   ]
  },
  {
   "cell_type": "code",
   "execution_count": 6,
   "id": "6a1266ee",
   "metadata": {},
   "outputs": [
    {
     "name": "stdout",
     "output_type": "stream",
     "text": [
      "<class 'pandas.core.frame.DataFrame'>\n",
      "RangeIndex: 5110 entries, 0 to 5109\n",
      "Data columns (total 12 columns):\n",
      " #   Column             Non-Null Count  Dtype  \n",
      "---  ------             --------------  -----  \n",
      " 0   id                 5110 non-null   int64  \n",
      " 1   gender             5110 non-null   object \n",
      " 2   age                5110 non-null   float64\n",
      " 3   hypertension       5110 non-null   int64  \n",
      " 4   heart_disease      5110 non-null   int64  \n",
      " 5   ever_married       5110 non-null   object \n",
      " 6   work_type          5110 non-null   object \n",
      " 7   Residence_type     5110 non-null   object \n",
      " 8   avg_glucose_level  5110 non-null   float64\n",
      " 9   bmi                4909 non-null   float64\n",
      " 10  smoking_status     5110 non-null   object \n",
      " 11  stroke             5110 non-null   int64  \n",
      "dtypes: float64(3), int64(4), object(5)\n",
      "memory usage: 479.2+ KB\n"
     ]
    }
   ],
   "source": [
    "bs.info()"
   ]
  },
  {
   "cell_type": "code",
   "execution_count": 7,
   "id": "45458a30",
   "metadata": {},
   "outputs": [
    {
     "data": {
      "text/plain": [
       "id                   False\n",
       "gender               False\n",
       "age                  False\n",
       "hypertension         False\n",
       "heart_disease        False\n",
       "ever_married         False\n",
       "work_type            False\n",
       "Residence_type       False\n",
       "avg_glucose_level    False\n",
       "bmi                   True\n",
       "smoking_status       False\n",
       "stroke               False\n",
       "dtype: bool"
      ]
     },
     "execution_count": 7,
     "metadata": {},
     "output_type": "execute_result"
    }
   ],
   "source": [
    "bs.isnull().any()"
   ]
  },
  {
   "cell_type": "code",
   "execution_count": 8,
   "id": "a6f7f6f4",
   "metadata": {},
   "outputs": [
    {
     "data": {
      "text/plain": [
       "id                     0\n",
       "gender                 0\n",
       "age                    0\n",
       "hypertension           0\n",
       "heart_disease          0\n",
       "ever_married           0\n",
       "work_type              0\n",
       "Residence_type         0\n",
       "avg_glucose_level      0\n",
       "bmi                  201\n",
       "smoking_status         0\n",
       "stroke                 0\n",
       "dtype: int64"
      ]
     },
     "execution_count": 8,
     "metadata": {},
     "output_type": "execute_result"
    }
   ],
   "source": [
    "bs.isnull().sum()"
   ]
  },
  {
   "cell_type": "code",
   "execution_count": 9,
   "id": "1d6035fb",
   "metadata": {},
   "outputs": [
    {
     "data": {
      "text/plain": [
       "id                   0.000000\n",
       "gender               0.000000\n",
       "age                  0.000000\n",
       "hypertension         0.000000\n",
       "heart_disease        0.000000\n",
       "ever_married         0.000000\n",
       "work_type            0.000000\n",
       "Residence_type       0.000000\n",
       "avg_glucose_level    0.000000\n",
       "bmi                  3.933464\n",
       "smoking_status       0.000000\n",
       "stroke               0.000000\n",
       "dtype: float64"
      ]
     },
     "execution_count": 9,
     "metadata": {},
     "output_type": "execute_result"
    }
   ],
   "source": [
    "bs.isnull().sum()*100/len(bs)"
   ]
  },
  {
   "cell_type": "code",
   "execution_count": 10,
   "id": "b5cd131c",
   "metadata": {},
   "outputs": [
    {
     "data": {
      "text/plain": [
       "<function matplotlib.pyplot.show(close=None, block=None)>"
      ]
     },
     "execution_count": 10,
     "metadata": {},
     "output_type": "execute_result"
    },
    {
     "data": {
      "image/png": "[encoded data removed]",
      "text/plain": [
       "<Figure size 432x288 with 1 Axes>"
      ]
     },
     "metadata": {
      "needs_background": "light"
     },
     "output_type": "display_data"
    }
   ],
   "source": [
    "sns.heatmap(bs.isnull(),cbar=False)\n",
    "plt.show"
   ]
  },
  {
   "cell_type": "code",
   "execution_count": 11,
   "id": "c7a599b4",
   "metadata": {},
   "outputs": [
    {
     "data": {
      "text/html": [
       "<div>\n",
       "<style scoped>\n",
       "    .dataframe tbody tr th:only-of-type {\n",
       "        vertical-align: middle;\n",
       "    }\n",
       "\n",
       "    .dataframe tbody tr th {\n",
       "        vertical-align: top;\n",
       "    }\n",
       "\n",
       "    .dataframe thead th {\n",
       "        text-align: right;\n",
       "    }\n",
       "</style>\n",
       "<table border=\"1\" class=\"dataframe\">\n",
       "  <thead>\n",
       "    <tr style=\"text-align: right;\">\n",
       "      <th></th>\n",
       "      <th>id</th>\n",
       "      <th>age</th>\n",
       "      <th>hypertension</th>\n",
       "      <th>heart_disease</th>\n",
       "      <th>avg_glucose_level</th>\n",
       "      <th>bmi</th>\n",
       "      <th>stroke</th>\n",
       "    </tr>\n",
       "  </thead>\n",
       "  <tbody>\n",
       "    <tr>\n",
       "      <th>count</th>\n",
       "      <td>5110.000000</td>\n",
       "      <td>5110.000000</td>\n",
       "      <td>5110.000000</td>\n",
       "      <td>5110.000000</td>\n",
       "      <td>5110.000000</td>\n",
       "      <td>4909.000000</td>\n",
       "      <td>5110.000000</td>\n",
       "    </tr>\n",
       "    <tr>\n",
       "      <th>mean</th>\n",
       "      <td>36517.829354</td>\n",
       "      <td>43.226614</td>\n",
       "      <td>0.097456</td>\n",
       "      <td>0.054012</td>\n",
       "      <td>106.147677</td>\n",
       "      <td>28.893237</td>\n",
       "      <td>0.048728</td>\n",
       "    </tr>\n",
       "    <tr>\n",
       "      <th>std</th>\n",
       "      <td>21161.721625</td>\n",
       "      <td>22.612647</td>\n",
       "      <td>0.296607</td>\n",
       "      <td>0.226063</td>\n",
       "      <td>45.283560</td>\n",
       "      <td>7.854067</td>\n",
       "      <td>0.215320</td>\n",
       "    </tr>\n",
       "    <tr>\n",
       "      <th>min</th>\n",
       "      <td>67.000000</td>\n",
       "      <td>0.080000</td>\n",
       "      <td>0.000000</td>\n",
       "      <td>0.000000</td>\n",
       "      <td>55.120000</td>\n",
       "      <td>10.300000</td>\n",
       "      <td>0.000000</td>\n",
       "    </tr>\n",
       "    <tr>\n",
       "      <th>25%</th>\n",
       "      <td>17741.250000</td>\n",
       "      <td>25.000000</td>\n",
       "      <td>0.000000</td>\n",
       "      <td>0.000000</td>\n",
       "      <td>77.245000</td>\n",
       "      <td>23.500000</td>\n",
       "      <td>0.000000</td>\n",
       "    </tr>\n",
       "    <tr>\n",
       "      <th>50%</th>\n",
       "      <td>36932.000000</td>\n",
       "      <td>45.000000</td>\n",
       "      <td>0.000000</td>\n",
       "      <td>0.000000</td>\n",
       "      <td>91.885000</td>\n",
       "      <td>28.100000</td>\n",
       "      <td>0.000000</td>\n",
       "    </tr>\n",
       "    <tr>\n",
       "      <th>75%</th>\n",
       "      <td>54682.000000</td>\n",
       "      <td>61.000000</td>\n",
       "      <td>0.000000</td>\n",
       "      <td>0.000000</td>\n",
       "      <td>114.090000</td>\n",
       "      <td>33.100000</td>\n",
       "      <td>0.000000</td>\n",
       "    </tr>\n",
       "    <tr>\n",
       "      <th>max</th>\n",
       "      <td>72940.000000</td>\n",
       "      <td>82.000000</td>\n",
       "      <td>1.000000</td>\n",
       "      <td>1.000000</td>\n",
       "      <td>271.740000</td>\n",
       "      <td>97.600000</td>\n",
       "      <td>1.000000</td>\n",
       "    </tr>\n",
       "  </tbody>\n",
       "</table>\n",
       "</div>"
      ],
      "text/plain": [
       "                 id          age  hypertension  heart_disease  \\\n",
       "count   5110.000000  5110.000000   5110.000000    5110.000000   \n",
       "mean   36517.829354    43.226614      0.097456       0.054012   \n",
       "std    21161.721625    22.612647      0.296607       0.226063   \n",
       "min       67.000000     0.080000      0.000000       0.000000   \n",
       "25%    17741.250000    25.000000      0.000000       0.000000   \n",
       "50%    36932.000000    45.000000      0.000000       0.000000   \n",
       "75%    54682.000000    61.000000      0.000000       0.000000   \n",
       "max    72940.000000    82.000000      1.000000       1.000000   \n",
       "\n",
       "       avg_glucose_level          bmi       stroke  \n",
       "count        5110.000000  4909.000000  5110.000000  \n",
       "mean          106.147677    28.893237     0.048728  \n",
       "std            45.283560     7.854067     0.215320  \n",
       "min            55.120000    10.300000     0.000000  \n",
       "25%            77.245000    23.500000     0.000000  \n",
       "50%            91.885000    28.100000     0.000000  \n",
       "75%           114.090000    33.100000     0.000000  \n",
       "max           271.740000    97.600000     1.000000  "
      ]
     },
     "execution_count": 11,
     "metadata": {},
     "output_type": "execute_result"
    }
   ],
   "source": [
    "bs.describe()"
   ]
  },
  {
   "cell_type": "code",
   "execution_count": 12,
   "id": "89436e2d",
   "metadata": {},
   "outputs": [
    {
     "data": {
      "text/html": [
       "<div>\n",
       "<style scoped>\n",
       "    .dataframe tbody tr th:only-of-type {\n",
       "        vertical-align: middle;\n",
       "    }\n",
       "\n",
       "    .dataframe tbody tr th {\n",
       "        vertical-align: top;\n",
       "    }\n",
       "\n",
       "    .dataframe thead th {\n",
       "        text-align: right;\n",
       "    }\n",
       "</style>\n",
       "<table border=\"1\" class=\"dataframe\">\n",
       "  <thead>\n",
       "    <tr style=\"text-align: right;\">\n",
       "      <th></th>\n",
       "      <th>count</th>\n",
       "      <th>unique</th>\n",
       "      <th>top</th>\n",
       "      <th>freq</th>\n",
       "    </tr>\n",
       "  </thead>\n",
       "  <tbody>\n",
       "    <tr>\n",
       "      <th>gender</th>\n",
       "      <td>5110</td>\n",
       "      <td>3</td>\n",
       "      <td>Female</td>\n",
       "      <td>2994</td>\n",
       "    </tr>\n",
       "    <tr>\n",
       "      <th>ever_married</th>\n",
       "      <td>5110</td>\n",
       "      <td>2</td>\n",
       "      <td>Yes</td>\n",
       "      <td>3353</td>\n",
       "    </tr>\n",
       "    <tr>\n",
       "      <th>work_type</th>\n",
       "      <td>5110</td>\n",
       "      <td>5</td>\n",
       "      <td>Private</td>\n",
       "      <td>2925</td>\n",
       "    </tr>\n",
       "    <tr>\n",
       "      <th>Residence_type</th>\n",
       "      <td>5110</td>\n",
       "      <td>2</td>\n",
       "      <td>Urban</td>\n",
       "      <td>2596</td>\n",
       "    </tr>\n",
       "    <tr>\n",
       "      <th>smoking_status</th>\n",
       "      <td>5110</td>\n",
       "      <td>4</td>\n",
       "      <td>never smoked</td>\n",
       "      <td>1892</td>\n",
       "    </tr>\n",
       "  </tbody>\n",
       "</table>\n",
       "</div>"
      ],
      "text/plain": [
       "               count unique           top  freq\n",
       "gender          5110      3        Female  2994\n",
       "ever_married    5110      2           Yes  3353\n",
       "work_type       5110      5       Private  2925\n",
       "Residence_type  5110      2         Urban  2596\n",
       "smoking_status  5110      4  never smoked  1892"
      ]
     },
     "execution_count": 12,
     "metadata": {},
     "output_type": "execute_result"
    }
   ],
   "source": [
    "bs.describe(include=object).T"
   ]
  },
  {
   "cell_type": "markdown",
   "id": "ff2d5a22",
   "metadata": {},
   "source": [
    "# Data Preprocessing"
   ]
  },
  {
   "cell_type": "code",
   "execution_count": 13,
   "id": "042fbb6c",
   "metadata": {},
   "outputs": [
    {
     "data": {
      "text/plain": [
       "(4909, 12)"
      ]
     },
     "execution_count": 13,
     "metadata": {},
     "output_type": "execute_result"
    }
   ],
   "source": [
    "bs.dropna(axis=0,inplace=True)\n",
    "bs.shape"
   ]
  },
  {
   "cell_type": "code",
   "execution_count": 14,
   "id": "e65fe0f9",
   "metadata": {},
   "outputs": [],
   "source": [
    "bs[\"stroke\"].replace({0:\"No\",1:\"Yes\"},inplace= True)"
   ]
  },
  {
   "cell_type": "code",
   "execution_count": null,
   "id": "1e78edbf",
   "metadata": {},
   "outputs": [],
   "source": []
  },
  {
   "cell_type": "markdown",
   "id": "7eebc29c",
   "metadata": {},
   "source": [
    "# Exploratory Data Analysis"
   ]
  },
  {
   "cell_type": "markdown",
   "id": "e6d1fbb3",
   "metadata": {},
   "source": [
    "Percentage of Patients With Brain Stroke"
   ]
  },
  {
   "cell_type": "code",
   "execution_count": 15,
   "id": "5302c233",
   "metadata": {},
   "outputs": [
    {
     "data": {
      "text/plain": [
       "stroke\n",
       "No     4700\n",
       "Yes     209\n",
       "Name: age, dtype: int64"
      ]
     },
     "execution_count": 15,
     "metadata": {},
     "output_type": "execute_result"
    }
   ],
   "source": [
    "d1=bs.groupby('stroke').count()['age']\n",
    "d1"
   ]
  },
  {
   "cell_type": "code",
   "execution_count": 16,
   "id": "c77fda93",
   "metadata": {},
   "outputs": [
    {
     "data": {
      "text/plain": [
       "Index(['No', 'Yes'], dtype='object', name='stroke')"
      ]
     },
     "execution_count": 16,
     "metadata": {},
     "output_type": "execute_result"
    }
   ],
   "source": [
    "label1=bs.groupby(\"stroke\").count()['age'].index\n",
    "label1"
   ]
  },
  {
   "cell_type": "code",
   "execution_count": 17,
   "id": "6455bc50",
   "metadata": {},
   "outputs": [
    {
     "data": {
      "image/png": "[encoded data removed]",
      "text/plain": [
       "<Figure size 432x288 with 1 Axes>"
      ]
     },
     "metadata": {},
     "output_type": "display_data"
    }
   ],
   "source": [
    "plt.axis(\"equal\")\n",
    "plt.pie(d1,labels=label1, shadow=True, autopct='%1.2f%%', radius=1.1)\n",
    "plt.title(\"The percentage of stroke    Yes: stroke   No: Non stroke\")\n",
    "plt.show()"
   ]
  },
  {
   "cell_type": "markdown",
   "id": "5ed6e9a9",
   "metadata": {},
   "source": [
    "Stroke Patients Age Distribution"
   ]
  },
  {
   "cell_type": "code",
   "execution_count": 18,
   "id": "2597a23d",
   "metadata": {
    "scrolled": true
   },
   "outputs": [
    {
     "data": {
      "text/html": [
       "<div>\n",
       "<style scoped>\n",
       "    .dataframe tbody tr th:only-of-type {\n",
       "        vertical-align: middle;\n",
       "    }\n",
       "\n",
       "    .dataframe tbody tr th {\n",
       "        vertical-align: top;\n",
       "    }\n",
       "\n",
       "    .dataframe thead th {\n",
       "        text-align: right;\n",
       "    }\n",
       "</style>\n",
       "<table border=\"1\" class=\"dataframe\">\n",
       "  <thead>\n",
       "    <tr style=\"text-align: right;\">\n",
       "      <th></th>\n",
       "      <th>id</th>\n",
       "      <th>gender</th>\n",
       "      <th>age</th>\n",
       "      <th>hypertension</th>\n",
       "      <th>heart_disease</th>\n",
       "      <th>ever_married</th>\n",
       "      <th>work_type</th>\n",
       "      <th>Residence_type</th>\n",
       "      <th>avg_glucose_level</th>\n",
       "      <th>bmi</th>\n",
       "      <th>smoking_status</th>\n",
       "      <th>stroke</th>\n",
       "    </tr>\n",
       "  </thead>\n",
       "  <tbody>\n",
       "    <tr>\n",
       "      <th>0</th>\n",
       "      <td>9046</td>\n",
       "      <td>Male</td>\n",
       "      <td>67.0</td>\n",
       "      <td>0</td>\n",
       "      <td>1</td>\n",
       "      <td>Yes</td>\n",
       "      <td>Private</td>\n",
       "      <td>Urban</td>\n",
       "      <td>228.69</td>\n",
       "      <td>36.6</td>\n",
       "      <td>formerly smoked</td>\n",
       "      <td>Yes</td>\n",
       "    </tr>\n",
       "    <tr>\n",
       "      <th>2</th>\n",
       "      <td>31112</td>\n",
       "      <td>Male</td>\n",
       "      <td>80.0</td>\n",
       "      <td>0</td>\n",
       "      <td>1</td>\n",
       "      <td>Yes</td>\n",
       "      <td>Private</td>\n",
       "      <td>Rural</td>\n",
       "      <td>105.92</td>\n",
       "      <td>32.5</td>\n",
       "      <td>never smoked</td>\n",
       "      <td>Yes</td>\n",
       "    </tr>\n",
       "    <tr>\n",
       "      <th>3</th>\n",
       "      <td>60182</td>\n",
       "      <td>Female</td>\n",
       "      <td>49.0</td>\n",
       "      <td>0</td>\n",
       "      <td>0</td>\n",
       "      <td>Yes</td>\n",
       "      <td>Private</td>\n",
       "      <td>Urban</td>\n",
       "      <td>171.23</td>\n",
       "      <td>34.4</td>\n",
       "      <td>smokes</td>\n",
       "      <td>Yes</td>\n",
       "    </tr>\n",
       "    <tr>\n",
       "      <th>4</th>\n",
       "      <td>1665</td>\n",
       "      <td>Female</td>\n",
       "      <td>79.0</td>\n",
       "      <td>1</td>\n",
       "      <td>0</td>\n",
       "      <td>Yes</td>\n",
       "      <td>Self-employed</td>\n",
       "      <td>Rural</td>\n",
       "      <td>174.12</td>\n",
       "      <td>24.0</td>\n",
       "      <td>never smoked</td>\n",
       "      <td>Yes</td>\n",
       "    </tr>\n",
       "    <tr>\n",
       "      <th>5</th>\n",
       "      <td>56669</td>\n",
       "      <td>Male</td>\n",
       "      <td>81.0</td>\n",
       "      <td>0</td>\n",
       "      <td>0</td>\n",
       "      <td>Yes</td>\n",
       "      <td>Private</td>\n",
       "      <td>Urban</td>\n",
       "      <td>186.21</td>\n",
       "      <td>29.0</td>\n",
       "      <td>formerly smoked</td>\n",
       "      <td>Yes</td>\n",
       "    </tr>\n",
       "  </tbody>\n",
       "</table>\n",
       "</div>"
      ],
      "text/plain": [
       "      id  gender   age  hypertension  heart_disease ever_married  \\\n",
       "0   9046    Male  67.0             0              1          Yes   \n",
       "2  31112    Male  80.0             0              1          Yes   \n",
       "3  60182  Female  49.0             0              0          Yes   \n",
       "4   1665  Female  79.0             1              0          Yes   \n",
       "5  56669    Male  81.0             0              0          Yes   \n",
       "\n",
       "       work_type Residence_type  avg_glucose_level   bmi   smoking_status  \\\n",
       "0        Private          Urban             228.69  36.6  formerly smoked   \n",
       "2        Private          Rural             105.92  32.5     never smoked   \n",
       "3        Private          Urban             171.23  34.4           smokes   \n",
       "4  Self-employed          Rural             174.12  24.0     never smoked   \n",
       "5        Private          Urban             186.21  29.0  formerly smoked   \n",
       "\n",
       "  stroke  \n",
       "0    Yes  \n",
       "2    Yes  \n",
       "3    Yes  \n",
       "4    Yes  \n",
       "5    Yes  "
      ]
     },
     "execution_count": 18,
     "metadata": {},
     "output_type": "execute_result"
    }
   ],
   "source": [
    "bs1=bs[bs[\"stroke\"]=='Yes']\n",
    "bs1.head()"
   ]
  },
  {
   "cell_type": "code",
   "execution_count": 19,
   "id": "5d2adebe",
   "metadata": {},
   "outputs": [
    {
     "data": {
      "image/png": "[encoded data removed]",
      "text/plain": [
       "<Figure size 432x288 with 1 Axes>"
      ]
     },
     "metadata": {
      "needs_background": "light"
     },
     "output_type": "display_data"
    }
   ],
   "source": [
    "sns.histplot(data=bs1, x='age',hue='gender')\n",
    "plt.show()"
   ]
  },
  {
   "cell_type": "code",
   "execution_count": 20,
   "id": "ef3352f6",
   "metadata": {},
   "outputs": [
    {
     "data": {
      "text/plain": [
       "gender\n",
       "Female    120\n",
       "Male       89\n",
       "Name: id, dtype: int64"
      ]
     },
     "execution_count": 20,
     "metadata": {},
     "output_type": "execute_result"
    }
   ],
   "source": [
    "r1=bs1.groupby('gender').count()['id']\n",
    "r1"
   ]
  },
  {
   "cell_type": "markdown",
   "id": "082c67be",
   "metadata": {},
   "source": [
    "#Number of stroke patients- Male:120 , Female:89"
   ]
  },
  {
   "cell_type": "markdown",
   "id": "49417639",
   "metadata": {},
   "source": [
    "Stroke Patients Age Distribution on Gender Basis"
   ]
  },
  {
   "cell_type": "code",
   "execution_count": 21,
   "id": "e6415d0b",
   "metadata": {},
   "outputs": [],
   "source": [
    "#Extracting data on basis of gender\n",
    "\n",
    "M_data=bs1[bs1['gender']=='Male']\n",
    "F_data=bs1[bs1['gender']=='Female']"
   ]
  },
  {
   "cell_type": "code",
   "execution_count": 22,
   "id": "fc9fa2d3",
   "metadata": {},
   "outputs": [
    {
     "data": {
      "image/png": "[encoded data removed]",
      "text/plain": [
       "<Figure size 432x288 with 2 Axes>"
      ]
     },
     "metadata": {
      "needs_background": "light"
     },
     "output_type": "display_data"
    }
   ],
   "source": [
    "fig,((ax1, ax2))= plt.subplots(1,2)\n",
    "ax1.title.set_text('Gender - Male')\n",
    "sns.histplot(data=M_data, x=\"age\", ax=ax1,)\n",
    "sns.histplot(data=F_data, x=\"age\", ax=ax2)\n",
    "ax2.title.set_text('Gender - Female')"
   ]
  },
  {
   "cell_type": "raw",
   "id": "b75bb98a",
   "metadata": {},
   "source": [
    "#Most of the Male patients fall in between 60 years to 82         \n",
    "#Most of the Male patients fall in between 50 years to 82\n"
   ]
  },
  {
   "cell_type": "code",
   "execution_count": 23,
   "id": "a7275637",
   "metadata": {},
   "outputs": [],
   "source": [
    "s_data=bs[bs[\"stroke\"]=='Yes'] \n",
    "n_data=bs[bs[\"stroke\"]=='No'] "
   ]
  },
  {
   "cell_type": "code",
   "execution_count": null,
   "id": "42eddffb",
   "metadata": {},
   "outputs": [],
   "source": []
  },
  {
   "cell_type": "markdown",
   "id": "4274c09c",
   "metadata": {},
   "source": [
    "Hypertension"
   ]
  },
  {
   "cell_type": "code",
   "execution_count": 24,
   "id": "cc81463a",
   "metadata": {},
   "outputs": [
    {
     "data": {
      "image/png": "[encoded data removed]",
      "text/plain": [
       "<Figure size 1008x216 with 2 Axes>"
      ]
     },
     "metadata": {
      "needs_background": "light"
     },
     "output_type": "display_data"
    }
   ],
   "source": [
    "fig, ((ax1, ax2)) = plt.subplots(1,2,figsize=(14,3))\n",
    "sns.histplot(data=s_data,x=\"hypertension\",ax=ax1)\n",
    "ax1.title.set_text('Patients with stroke')\n",
    "sns.histplot(data=n_data,x=\"hypertension\",ax=ax2)\n",
    "ax2.title.set_text('Patients without stroke')"
   ]
  },
  {
   "cell_type": "markdown",
   "id": "d219b34b",
   "metadata": {},
   "source": [
    "#Most of the stroke patients does not have hypertension\n",
    "\n",
    "#It is found that hypertension is found in majority of individuals in our dataset ,which is also another major medical condition we should address"
   ]
  },
  {
   "cell_type": "markdown",
   "id": "54ec94b8",
   "metadata": {},
   "source": [
    "Heart Disease"
   ]
  },
  {
   "cell_type": "code",
   "execution_count": 25,
   "id": "4d59e8f4",
   "metadata": {},
   "outputs": [
    {
     "data": {
      "image/png": "[encoded data removed]",
      "text/plain": [
       "<Figure size 432x288 with 2 Axes>"
      ]
     },
     "metadata": {
      "needs_background": "light"
     },
     "output_type": "display_data"
    }
   ],
   "source": [
    "fig, ((ax1, ax2)) = plt.subplots(1,2)\n",
    "sns.histplot(data=s_data,x=\"heart_disease\",ax=ax1)\n",
    "ax1.title.set_text('Patients with stroke')\n",
    "sns.histplot(data=n_data,x=\"heart_disease\",ax=ax2)\n",
    "ax2.title.set_text('Patients without stroke')"
   ]
  },
  {
   "cell_type": "markdown",
   "id": "383f90dc",
   "metadata": {},
   "source": [
    "#Most of the stroke patients does not have heart disease"
   ]
  },
  {
   "cell_type": "markdown",
   "id": "6c19ca0b",
   "metadata": {},
   "source": [
    "Marital Status"
   ]
  },
  {
   "cell_type": "code",
   "execution_count": 26,
   "id": "01413f3a",
   "metadata": {
    "scrolled": true
   },
   "outputs": [
    {
     "data": {
      "image/png": "[encoded data removed]",
      "text/plain": [
       "<Figure size 432x288 with 2 Axes>"
      ]
     },
     "metadata": {
      "needs_background": "light"
     },
     "output_type": "display_data"
    }
   ],
   "source": [
    "fig, ((ax1, ax2)) = plt.subplots(1,2)\n",
    "sns.histplot(data=s_data,x=\"ever_married\",ax=ax1)\n",
    "ax1.title.set_text('Patients with stroke')\n",
    "sns.histplot(data=n_data,x=\"ever_married\",ax=ax2)\n",
    "ax2.title.set_text('Patients without stroke')"
   ]
  },
  {
   "cell_type": "markdown",
   "id": "6c333440",
   "metadata": {},
   "source": [
    "Worktype"
   ]
  },
  {
   "cell_type": "code",
   "execution_count": 27,
   "id": "caf6f607",
   "metadata": {},
   "outputs": [
    {
     "data": {
      "image/png": "[encoded data removed]",
      "text/plain": [
       "<Figure size 1152x216 with 2 Axes>"
      ]
     },
     "metadata": {
      "needs_background": "light"
     },
     "output_type": "display_data"
    }
   ],
   "source": [
    "fig, ((ax1, ax2)) = plt.subplots(1,2,figsize=(16,3))\n",
    "sns.histplot(data=M_data,x=\"work_type\",ax=ax1)\n",
    "ax1.title.set_text('Patients with stroke')\n",
    "sns.histplot(data=F_data,x=\"work_type\",ax=ax2)\n",
    "ax2.title.set_text('Patients without stroke')"
   ]
  },
  {
   "cell_type": "markdown",
   "id": "ca14590d",
   "metadata": {},
   "source": [
    "#According to our data most of our stroke patients working in private & self-employed sectors"
   ]
  },
  {
   "cell_type": "code",
   "execution_count": 28,
   "id": "f952ef63",
   "metadata": {},
   "outputs": [
    {
     "data": {
      "text/html": [
       "<div>\n",
       "<style scoped>\n",
       "    .dataframe tbody tr th:only-of-type {\n",
       "        vertical-align: middle;\n",
       "    }\n",
       "\n",
       "    .dataframe tbody tr th {\n",
       "        vertical-align: top;\n",
       "    }\n",
       "\n",
       "    .dataframe thead th {\n",
       "        text-align: right;\n",
       "    }\n",
       "</style>\n",
       "<table border=\"1\" class=\"dataframe\">\n",
       "  <thead>\n",
       "    <tr style=\"text-align: right;\">\n",
       "      <th></th>\n",
       "      <th>id</th>\n",
       "      <th>gender</th>\n",
       "      <th>age</th>\n",
       "      <th>hypertension</th>\n",
       "      <th>heart_disease</th>\n",
       "      <th>ever_married</th>\n",
       "      <th>work_type</th>\n",
       "      <th>Residence_type</th>\n",
       "      <th>avg_glucose_level</th>\n",
       "      <th>bmi</th>\n",
       "      <th>smoking_status</th>\n",
       "      <th>stroke</th>\n",
       "    </tr>\n",
       "  </thead>\n",
       "  <tbody>\n",
       "    <tr>\n",
       "      <th>0</th>\n",
       "      <td>9046</td>\n",
       "      <td>Male</td>\n",
       "      <td>67.0</td>\n",
       "      <td>0</td>\n",
       "      <td>1</td>\n",
       "      <td>Yes</td>\n",
       "      <td>Private</td>\n",
       "      <td>Urban</td>\n",
       "      <td>228.69</td>\n",
       "      <td>36.6</td>\n",
       "      <td>formerly smoked</td>\n",
       "      <td>Yes</td>\n",
       "    </tr>\n",
       "    <tr>\n",
       "      <th>2</th>\n",
       "      <td>31112</td>\n",
       "      <td>Male</td>\n",
       "      <td>80.0</td>\n",
       "      <td>0</td>\n",
       "      <td>1</td>\n",
       "      <td>Yes</td>\n",
       "      <td>Private</td>\n",
       "      <td>Rural</td>\n",
       "      <td>105.92</td>\n",
       "      <td>32.5</td>\n",
       "      <td>never smoked</td>\n",
       "      <td>Yes</td>\n",
       "    </tr>\n",
       "    <tr>\n",
       "      <th>3</th>\n",
       "      <td>60182</td>\n",
       "      <td>Female</td>\n",
       "      <td>49.0</td>\n",
       "      <td>0</td>\n",
       "      <td>0</td>\n",
       "      <td>Yes</td>\n",
       "      <td>Private</td>\n",
       "      <td>Urban</td>\n",
       "      <td>171.23</td>\n",
       "      <td>34.4</td>\n",
       "      <td>smokes</td>\n",
       "      <td>Yes</td>\n",
       "    </tr>\n",
       "    <tr>\n",
       "      <th>4</th>\n",
       "      <td>1665</td>\n",
       "      <td>Female</td>\n",
       "      <td>79.0</td>\n",
       "      <td>1</td>\n",
       "      <td>0</td>\n",
       "      <td>Yes</td>\n",
       "      <td>Self-employed</td>\n",
       "      <td>Rural</td>\n",
       "      <td>174.12</td>\n",
       "      <td>24.0</td>\n",
       "      <td>never smoked</td>\n",
       "      <td>Yes</td>\n",
       "    </tr>\n",
       "    <tr>\n",
       "      <th>5</th>\n",
       "      <td>56669</td>\n",
       "      <td>Male</td>\n",
       "      <td>81.0</td>\n",
       "      <td>0</td>\n",
       "      <td>0</td>\n",
       "      <td>Yes</td>\n",
       "      <td>Private</td>\n",
       "      <td>Urban</td>\n",
       "      <td>186.21</td>\n",
       "      <td>29.0</td>\n",
       "      <td>formerly smoked</td>\n",
       "      <td>Yes</td>\n",
       "    </tr>\n",
       "  </tbody>\n",
       "</table>\n",
       "</div>"
      ],
      "text/plain": [
       "      id  gender   age  hypertension  heart_disease ever_married  \\\n",
       "0   9046    Male  67.0             0              1          Yes   \n",
       "2  31112    Male  80.0             0              1          Yes   \n",
       "3  60182  Female  49.0             0              0          Yes   \n",
       "4   1665  Female  79.0             1              0          Yes   \n",
       "5  56669    Male  81.0             0              0          Yes   \n",
       "\n",
       "       work_type Residence_type  avg_glucose_level   bmi   smoking_status  \\\n",
       "0        Private          Urban             228.69  36.6  formerly smoked   \n",
       "2        Private          Rural             105.92  32.5     never smoked   \n",
       "3        Private          Urban             171.23  34.4           smokes   \n",
       "4  Self-employed          Rural             174.12  24.0     never smoked   \n",
       "5        Private          Urban             186.21  29.0  formerly smoked   \n",
       "\n",
       "  stroke  \n",
       "0    Yes  \n",
       "2    Yes  \n",
       "3    Yes  \n",
       "4    Yes  \n",
       "5    Yes  "
      ]
     },
     "execution_count": 28,
     "metadata": {},
     "output_type": "execute_result"
    }
   ],
   "source": [
    "s_data.head()"
   ]
  },
  {
   "cell_type": "markdown",
   "id": "e296f6e1",
   "metadata": {},
   "source": [
    "Average glucose Level"
   ]
  },
  {
   "cell_type": "code",
   "execution_count": 29,
   "id": "8bd58ddd",
   "metadata": {},
   "outputs": [
    {
     "data": {
      "image/png": "[encoded data removed]",
      "text/plain": [
       "<Figure size 1152x216 with 2 Axes>"
      ]
     },
     "metadata": {
      "needs_background": "light"
     },
     "output_type": "display_data"
    }
   ],
   "source": [
    "fig, ((ax1, ax2)) = plt.subplots(1,2,figsize=(16,3))\n",
    "sns.histplot(data=s_data,x=\"avg_glucose_level\",ax=ax1)\n",
    "ax1.title.set_text('Patients with stroke')\n",
    "sns.histplot(data=n_data,x=\"avg_glucose_level\",ax=ax2)\n",
    "ax2.title.set_text('Patients without stroke')"
   ]
  },
  {
   "cell_type": "markdown",
   "id": "9caecfd9",
   "metadata": {},
   "source": [
    "#We can see most of the patient's average glucose levels fall in between 60 to 120     \n",
    "\n",
    "#Also there are some high average glucose levels too"
   ]
  },
  {
   "cell_type": "markdown",
   "id": "c807cede",
   "metadata": {},
   "source": [
    "Body Mass Index"
   ]
  },
  {
   "cell_type": "code",
   "execution_count": 30,
   "id": "8bee97a1",
   "metadata": {},
   "outputs": [
    {
     "data": {
      "image/png": "[encoded data removed]",
      "text/plain": [
       "<Figure size 1152x216 with 2 Axes>"
      ]
     },
     "metadata": {
      "needs_background": "light"
     },
     "output_type": "display_data"
    }
   ],
   "source": [
    "fig, ((ax1, ax2)) = plt.subplots(1,2,figsize=(16,3))\n",
    "sns.histplot(data=s_data,x=\"bmi\",ax=ax1)\n",
    "ax1.title.set_text('Patients with stroke')\n",
    "sns.histplot(data=n_data,x=\"bmi\",ax=ax2)\n",
    "ax2.title.set_text('Patients without stroke')"
   ]
  },
  {
   "cell_type": "markdown",
   "id": "271cbfd7",
   "metadata": {},
   "source": [
    "#We can see the Most of the Stroke patient's BMI fall in between 25 to 35.    \n",
    "#Also there are some high BMI values in patients without stroke"
   ]
  },
  {
   "cell_type": "code",
   "execution_count": null,
   "id": "ddf042d8",
   "metadata": {},
   "outputs": [],
   "source": []
  },
  {
   "cell_type": "markdown",
   "id": "a0df2dbc",
   "metadata": {},
   "source": [
    "Smoking Status"
   ]
  },
  {
   "cell_type": "code",
   "execution_count": 31,
   "id": "dddcf412",
   "metadata": {},
   "outputs": [
    {
     "data": {
      "image/png": "[encoded data removed]",
      "text/plain": [
       "<Figure size 1152x216 with 2 Axes>"
      ]
     },
     "metadata": {
      "needs_background": "light"
     },
     "output_type": "display_data"
    }
   ],
   "source": [
    "fig, ((ax1, ax2)) = plt.subplots(1,2,figsize=(16,3))\n",
    "sns.histplot(data=s_data,x=\"smoking_status\",ax=ax1)\n",
    "ax1.title.set_text('Patients with stroke')\n",
    "sns.histplot(data=n_data,x=\"smoking_status\",ax=ax2)\n",
    "ax2.title.set_text('Patients without stroke')"
   ]
  },
  {
   "cell_type": "markdown",
   "id": "d1f71fa8",
   "metadata": {},
   "source": [
    "#Most of the stroke patients have Never Smoked            \n",
    "#Some of the stroke patients have Smoked Previuosly"
   ]
  },
  {
   "cell_type": "code",
   "execution_count": null,
   "id": "36babb2c",
   "metadata": {},
   "outputs": [],
   "source": []
  },
  {
   "cell_type": "markdown",
   "id": "8da86e4b",
   "metadata": {},
   "source": [
    "# Prediction Model Building"
   ]
  },
  {
   "cell_type": "code",
   "execution_count": 32,
   "id": "5f6ffe8f",
   "metadata": {},
   "outputs": [],
   "source": [
    "bs.rename(columns={\"id\":\"Id\"},inplace=True)"
   ]
  },
  {
   "cell_type": "code",
   "execution_count": 33,
   "id": "582733c8",
   "metadata": {},
   "outputs": [],
   "source": [
    "f_data=bs.drop(['Id'],axis='columns')"
   ]
  },
  {
   "cell_type": "code",
   "execution_count": 34,
   "id": "9e9b8bbe",
   "metadata": {},
   "outputs": [
    {
     "data": {
      "text/html": [
       "<div>\n",
       "<style scoped>\n",
       "    .dataframe tbody tr th:only-of-type {\n",
       "        vertical-align: middle;\n",
       "    }\n",
       "\n",
       "    .dataframe tbody tr th {\n",
       "        vertical-align: top;\n",
       "    }\n",
       "\n",
       "    .dataframe thead th {\n",
       "        text-align: right;\n",
       "    }\n",
       "</style>\n",
       "<table border=\"1\" class=\"dataframe\">\n",
       "  <thead>\n",
       "    <tr style=\"text-align: right;\">\n",
       "      <th></th>\n",
       "      <th>gender</th>\n",
       "      <th>age</th>\n",
       "      <th>hypertension</th>\n",
       "      <th>heart_disease</th>\n",
       "      <th>ever_married</th>\n",
       "      <th>work_type</th>\n",
       "      <th>Residence_type</th>\n",
       "      <th>avg_glucose_level</th>\n",
       "      <th>bmi</th>\n",
       "      <th>smoking_status</th>\n",
       "      <th>stroke</th>\n",
       "    </tr>\n",
       "  </thead>\n",
       "  <tbody>\n",
       "    <tr>\n",
       "      <th>0</th>\n",
       "      <td>1</td>\n",
       "      <td>67.0</td>\n",
       "      <td>0</td>\n",
       "      <td>1</td>\n",
       "      <td>1</td>\n",
       "      <td>2</td>\n",
       "      <td>1</td>\n",
       "      <td>228.69</td>\n",
       "      <td>36.6</td>\n",
       "      <td>1</td>\n",
       "      <td>1</td>\n",
       "    </tr>\n",
       "    <tr>\n",
       "      <th>2</th>\n",
       "      <td>1</td>\n",
       "      <td>80.0</td>\n",
       "      <td>0</td>\n",
       "      <td>1</td>\n",
       "      <td>1</td>\n",
       "      <td>2</td>\n",
       "      <td>0</td>\n",
       "      <td>105.92</td>\n",
       "      <td>32.5</td>\n",
       "      <td>2</td>\n",
       "      <td>1</td>\n",
       "    </tr>\n",
       "    <tr>\n",
       "      <th>3</th>\n",
       "      <td>0</td>\n",
       "      <td>49.0</td>\n",
       "      <td>0</td>\n",
       "      <td>0</td>\n",
       "      <td>1</td>\n",
       "      <td>2</td>\n",
       "      <td>1</td>\n",
       "      <td>171.23</td>\n",
       "      <td>34.4</td>\n",
       "      <td>3</td>\n",
       "      <td>1</td>\n",
       "    </tr>\n",
       "    <tr>\n",
       "      <th>4</th>\n",
       "      <td>0</td>\n",
       "      <td>79.0</td>\n",
       "      <td>1</td>\n",
       "      <td>0</td>\n",
       "      <td>1</td>\n",
       "      <td>3</td>\n",
       "      <td>0</td>\n",
       "      <td>174.12</td>\n",
       "      <td>24.0</td>\n",
       "      <td>2</td>\n",
       "      <td>1</td>\n",
       "    </tr>\n",
       "    <tr>\n",
       "      <th>5</th>\n",
       "      <td>1</td>\n",
       "      <td>81.0</td>\n",
       "      <td>0</td>\n",
       "      <td>0</td>\n",
       "      <td>1</td>\n",
       "      <td>2</td>\n",
       "      <td>1</td>\n",
       "      <td>186.21</td>\n",
       "      <td>29.0</td>\n",
       "      <td>1</td>\n",
       "      <td>1</td>\n",
       "    </tr>\n",
       "  </tbody>\n",
       "</table>\n",
       "</div>"
      ],
      "text/plain": [
       "   gender   age  hypertension  heart_disease  ever_married  work_type  \\\n",
       "0       1  67.0             0              1             1          2   \n",
       "2       1  80.0             0              1             1          2   \n",
       "3       0  49.0             0              0             1          2   \n",
       "4       0  79.0             1              0             1          3   \n",
       "5       1  81.0             0              0             1          2   \n",
       "\n",
       "   Residence_type  avg_glucose_level   bmi  smoking_status  stroke  \n",
       "0               1             228.69  36.6               1       1  \n",
       "2               0             105.92  32.5               2       1  \n",
       "3               1             171.23  34.4               3       1  \n",
       "4               0             174.12  24.0               2       1  \n",
       "5               1             186.21  29.0               1       1  "
      ]
     },
     "execution_count": 34,
     "metadata": {},
     "output_type": "execute_result"
    }
   ],
   "source": [
    "from sklearn.preprocessing import LabelEncoder  #encoding (we convert categorical variables into Numeric)\n",
    "lb=LabelEncoder()  \n",
    "\n",
    "f_data['gender'] = lb.fit_transform(bs['gender'])\n",
    "f_data['ever_married'] = lb.fit_transform(bs['ever_married'])\n",
    "f_data['work_type'] = lb.fit_transform(bs['work_type'])\n",
    "f_data['Residence_type'] = lb.fit_transform(bs['Residence_type'])\n",
    "f_data['smoking_status'] = lb.fit_transform(bs['smoking_status'])\n",
    "f_data['stroke'] = lb.fit_transform(bs['stroke'])\n",
    "f_data.head(5)"
   ]
  },
  {
   "cell_type": "code",
   "execution_count": 35,
   "id": "b951f91c",
   "metadata": {},
   "outputs": [
    {
     "data": {
      "text/html": [
       "<style  type=\"text/css\" >\n",
       "#T_0706a_row0_col0,#T_0706a_row1_col1,#T_0706a_row2_col2,#T_0706a_row3_col3,#T_0706a_row4_col4,#T_0706a_row5_col5,#T_0706a_row6_col6,#T_0706a_row7_col7,#T_0706a_row8_col8,#T_0706a_row9_col9,#T_0706a_row10_col10{\n",
       "            background-color:  #084081;\n",
       "            color:  #f1f1f1;\n",
       "        }#T_0706a_row0_col1,#T_0706a_row10_col5{\n",
       "            background-color:  #cdebc6;\n",
       "            color:  #000000;\n",
       "        }#T_0706a_row0_col2,#T_0706a_row8_col10{\n",
       "            background-color:  #eaf7e4;\n",
       "            color:  #000000;\n",
       "        }#T_0706a_row0_col3,#T_0706a_row5_col0,#T_0706a_row9_col7{\n",
       "            background-color:  #e3f4de;\n",
       "            color:  #000000;\n",
       "        }#T_0706a_row0_col4{\n",
       "            background-color:  #ceecc8;\n",
       "            color:  #000000;\n",
       "        }#T_0706a_row0_col5,#T_0706a_row1_col2{\n",
       "            background-color:  #bbe4bd;\n",
       "            color:  #000000;\n",
       "        }#T_0706a_row0_col6,#T_0706a_row1_col5,#T_0706a_row5_col1,#T_0706a_row5_col2,#T_0706a_row5_col3,#T_0706a_row5_col4,#T_0706a_row5_col6,#T_0706a_row5_col7,#T_0706a_row5_col8,#T_0706a_row5_col9,#T_0706a_row5_col10,#T_0706a_row7_col6,#T_0706a_row9_col0{\n",
       "            background-color:  #f7fcf0;\n",
       "            color:  #000000;\n",
       "        }#T_0706a_row0_col7{\n",
       "            background-color:  #e5f5e0;\n",
       "            color:  #000000;\n",
       "        }#T_0706a_row0_col8{\n",
       "            background-color:  #d2edcc;\n",
       "            color:  #000000;\n",
       "        }#T_0706a_row0_col9{\n",
       "            background-color:  #d6efd0;\n",
       "            color:  #000000;\n",
       "        }#T_0706a_row0_col10,#T_0706a_row6_col7,#T_0706a_row9_col5{\n",
       "            background-color:  #f0f9e9;\n",
       "            color:  #000000;\n",
       "        }#T_0706a_row1_col0{\n",
       "            background-color:  #f2faeb;\n",
       "            color:  #000000;\n",
       "        }#T_0706a_row1_col3,#T_0706a_row3_col9{\n",
       "            background-color:  #c4e8c1;\n",
       "            color:  #000000;\n",
       "        }#T_0706a_row1_col4{\n",
       "            background-color:  #2788bc;\n",
       "            color:  #000000;\n",
       "        }#T_0706a_row1_col6{\n",
       "            background-color:  #f4fbed;\n",
       "            color:  #000000;\n",
       "        }#T_0706a_row1_col7{\n",
       "            background-color:  #c6e9c2;\n",
       "            color:  #000000;\n",
       "        }#T_0706a_row1_col8{\n",
       "            background-color:  #7fcdc3;\n",
       "            color:  #000000;\n",
       "        }#T_0706a_row1_col9{\n",
       "            background-color:  #8ed3be;\n",
       "            color:  #000000;\n",
       "        }#T_0706a_row1_col10{\n",
       "            background-color:  #cbeac4;\n",
       "            color:  #000000;\n",
       "        }#T_0706a_row2_col0{\n",
       "            background-color:  #e9f7e3;\n",
       "            color:  #000000;\n",
       "        }#T_0706a_row2_col1,#T_0706a_row9_col1{\n",
       "            background-color:  #86d0c0;\n",
       "            color:  #000000;\n",
       "        }#T_0706a_row2_col3{\n",
       "            background-color:  #ddf2d8;\n",
       "            color:  #000000;\n",
       "        }#T_0706a_row2_col4{\n",
       "            background-color:  #a5dcb6;\n",
       "            color:  #000000;\n",
       "        }#T_0706a_row2_col5{\n",
       "            background-color:  #d0ecc9;\n",
       "            color:  #000000;\n",
       "        }#T_0706a_row2_col6,#T_0706a_row3_col6,#T_0706a_row4_col5,#T_0706a_row8_col6{\n",
       "            background-color:  #f6fcef;\n",
       "            color:  #000000;\n",
       "        }#T_0706a_row2_col7,#T_0706a_row7_col2{\n",
       "            background-color:  #d1edca;\n",
       "            color:  #000000;\n",
       "        }#T_0706a_row2_col8{\n",
       "            background-color:  #acdfb7;\n",
       "            color:  #000000;\n",
       "        }#T_0706a_row2_col9{\n",
       "            background-color:  #b7e3bc;\n",
       "            color:  #000000;\n",
       "        }#T_0706a_row2_col10{\n",
       "            background-color:  #d9f0d3;\n",
       "            color:  #000000;\n",
       "        }#T_0706a_row3_col0,#T_0706a_row4_col10{\n",
       "            background-color:  #dff2da;\n",
       "            color:  #000000;\n",
       "        }#T_0706a_row3_col1{\n",
       "            background-color:  #8bd2bf;\n",
       "            color:  #000000;\n",
       "        }#T_0706a_row3_col2,#T_0706a_row10_col3{\n",
       "            background-color:  #daf1d5;\n",
       "            color:  #000000;\n",
       "        }#T_0706a_row3_col4{\n",
       "            background-color:  #b1e0b9;\n",
       "            color:  #000000;\n",
       "        }#T_0706a_row3_col5,#T_0706a_row6_col9{\n",
       "            background-color:  #ccebc6;\n",
       "            color:  #000000;\n",
       "        }#T_0706a_row3_col7,#T_0706a_row4_col7{\n",
       "            background-color:  #d5efcf;\n",
       "            color:  #000000;\n",
       "        }#T_0706a_row3_col8,#T_0706a_row6_col5{\n",
       "            background-color:  #c8eac3;\n",
       "            color:  #000000;\n",
       "        }#T_0706a_row3_col10,#T_0706a_row7_col10{\n",
       "            background-color:  #daf0d4;\n",
       "            color:  #000000;\n",
       "        }#T_0706a_row4_col0,#T_0706a_row9_col6{\n",
       "            background-color:  #f3fbed;\n",
       "            color:  #000000;\n",
       "        }#T_0706a_row4_col1{\n",
       "            background-color:  #2687bb;\n",
       "            color:  #000000;\n",
       "        }#T_0706a_row4_col2{\n",
       "            background-color:  #d3eecd;\n",
       "            color:  #000000;\n",
       "        }#T_0706a_row4_col3{\n",
       "            background-color:  #def2d9;\n",
       "            color:  #000000;\n",
       "        }#T_0706a_row4_col6,#T_0706a_row10_col6{\n",
       "            background-color:  #f5fbee;\n",
       "            color:  #000000;\n",
       "        }#T_0706a_row4_col8{\n",
       "            background-color:  #7dcdc3;\n",
       "            color:  #000000;\n",
       "        }#T_0706a_row4_col9,#T_0706a_row7_col1,#T_0706a_row10_col1{\n",
       "            background-color:  #91d4bd;\n",
       "            color:  #000000;\n",
       "        }#T_0706a_row6_col0{\n",
       "            background-color:  #eef8e7;\n",
       "            color:  #000000;\n",
       "        }#T_0706a_row6_col1,#T_0706a_row10_col9{\n",
       "            background-color:  #c5e8c2;\n",
       "            color:  #000000;\n",
       "        }#T_0706a_row6_col2{\n",
       "            background-color:  #eef9e8;\n",
       "            color:  #000000;\n",
       "        }#T_0706a_row6_col3{\n",
       "            background-color:  #f3faec;\n",
       "            color:  #000000;\n",
       "        }#T_0706a_row6_col4,#T_0706a_row10_col8{\n",
       "            background-color:  #c7e9c3;\n",
       "            color:  #000000;\n",
       "        }#T_0706a_row6_col8,#T_0706a_row7_col5{\n",
       "            background-color:  #cfecc8;\n",
       "            color:  #000000;\n",
       "        }#T_0706a_row6_col10{\n",
       "            background-color:  #f1f9ea;\n",
       "            color:  #000000;\n",
       "        }#T_0706a_row7_col0{\n",
       "            background-color:  #e4f4de;\n",
       "            color:  #000000;\n",
       "        }#T_0706a_row7_col3{\n",
       "            background-color:  #d8f0d2;\n",
       "            color:  #000000;\n",
       "        }#T_0706a_row7_col4{\n",
       "            background-color:  #a7ddb5;\n",
       "            color:  #000000;\n",
       "        }#T_0706a_row7_col8{\n",
       "            background-color:  #aadeb6;\n",
       "            color:  #000000;\n",
       "        }#T_0706a_row7_col9{\n",
       "            background-color:  #c2e7c0;\n",
       "            color:  #000000;\n",
       "        }#T_0706a_row8_col0{\n",
       "            background-color:  #f1faeb;\n",
       "            color:  #000000;\n",
       "        }#T_0706a_row8_col1,#T_0706a_row8_col4{\n",
       "            background-color:  #76c9c6;\n",
       "            color:  #000000;\n",
       "        }#T_0706a_row8_col2{\n",
       "            background-color:  #d3eecc;\n",
       "            color:  #000000;\n",
       "        }#T_0706a_row8_col3,#T_0706a_row10_col0{\n",
       "            background-color:  #ebf7e5;\n",
       "            color:  #000000;\n",
       "        }#T_0706a_row8_col5{\n",
       "            background-color:  #eff9e9;\n",
       "            color:  #000000;\n",
       "        }#T_0706a_row8_col7{\n",
       "            background-color:  #d1edcb;\n",
       "            color:  #000000;\n",
       "        }#T_0706a_row8_col9{\n",
       "            background-color:  #9cd9b9;\n",
       "            color:  #000000;\n",
       "        }#T_0706a_row9_col2{\n",
       "            background-color:  #dcf1d6;\n",
       "            color:  #000000;\n",
       "        }#T_0706a_row9_col3,#T_0706a_row9_col10{\n",
       "            background-color:  #e8f6e2;\n",
       "            color:  #000000;\n",
       "        }#T_0706a_row9_col4{\n",
       "            background-color:  #8ad2bf;\n",
       "            color:  #000000;\n",
       "        }#T_0706a_row9_col8{\n",
       "            background-color:  #9ed9b8;\n",
       "            color:  #000000;\n",
       "        }#T_0706a_row10_col2,#T_0706a_row10_col7{\n",
       "            background-color:  #d7efd1;\n",
       "            color:  #000000;\n",
       "        }#T_0706a_row10_col4{\n",
       "            background-color:  #b2e1b9;\n",
       "            color:  #000000;\n",
       "        }</style><table id=\"T_0706a_\" ><thead>    <tr>        <th class=\"blank level0\" ></th>        <th class=\"col_heading level0 col0\" >gender</th>        <th class=\"col_heading level0 col1\" >age</th>        <th class=\"col_heading level0 col2\" >hypertension</th>        <th class=\"col_heading level0 col3\" >heart_disease</th>        <th class=\"col_heading level0 col4\" >ever_married</th>        <th class=\"col_heading level0 col5\" >work_type</th>        <th class=\"col_heading level0 col6\" >Residence_type</th>        <th class=\"col_heading level0 col7\" >avg_glucose_level</th>        <th class=\"col_heading level0 col8\" >bmi</th>        <th class=\"col_heading level0 col9\" >smoking_status</th>        <th class=\"col_heading level0 col10\" >stroke</th>    </tr></thead><tbody>\n",
       "                <tr>\n",
       "                        <th id=\"T_0706a_level0_row0\" class=\"row_heading level0 row0\" >gender</th>\n",
       "                        <td id=\"T_0706a_row0_col0\" class=\"data row0 col0\" >1.000000</td>\n",
       "                        <td id=\"T_0706a_row0_col1\" class=\"data row0 col1\" >-0.030738</td>\n",
       "                        <td id=\"T_0706a_row0_col2\" class=\"data row0 col2\" >0.021578</td>\n",
       "                        <td id=\"T_0706a_row0_col3\" class=\"data row0 col3\" >0.082712</td>\n",
       "                        <td id=\"T_0706a_row0_col4\" class=\"data row0 col4\" >-0.037237</td>\n",
       "                        <td id=\"T_0706a_row0_col5\" class=\"data row0 col5\" >0.058560</td>\n",
       "                        <td id=\"T_0706a_row0_col6\" class=\"data row0 col6\" >-0.005014</td>\n",
       "                        <td id=\"T_0706a_row0_col7\" class=\"data row0 col7\" >0.053664</td>\n",
       "                        <td id=\"T_0706a_row0_col8\" class=\"data row0 col8\" >-0.026678</td>\n",
       "                        <td id=\"T_0706a_row0_col9\" class=\"data row0 col9\" >-0.060004</td>\n",
       "                        <td id=\"T_0706a_row0_col10\" class=\"data row0 col10\" >0.006757</td>\n",
       "            </tr>\n",
       "            <tr>\n",
       "                        <th id=\"T_0706a_level0_row1\" class=\"row_heading level0 row1\" >age</th>\n",
       "                        <td id=\"T_0706a_row1_col0\" class=\"data row1 col0\" >-0.030738</td>\n",
       "                        <td id=\"T_0706a_row1_col1\" class=\"data row1 col1\" >1.000000</td>\n",
       "                        <td id=\"T_0706a_row1_col2\" class=\"data row1 col2\" >0.274425</td>\n",
       "                        <td id=\"T_0706a_row1_col3\" class=\"data row1 col3\" >0.257123</td>\n",
       "                        <td id=\"T_0706a_row1_col4\" class=\"data row1 col4\" >0.680782</td>\n",
       "                        <td id=\"T_0706a_row1_col5\" class=\"data row1 col5\" >-0.366987</td>\n",
       "                        <td id=\"T_0706a_row1_col6\" class=\"data row1 col6\" >0.010948</td>\n",
       "                        <td id=\"T_0706a_row1_col7\" class=\"data row1 col7\" >0.235838</td>\n",
       "                        <td id=\"T_0706a_row1_col8\" class=\"data row1 col8\" >0.333398</td>\n",
       "                        <td id=\"T_0706a_row1_col9\" class=\"data row1 col9\" >0.275515</td>\n",
       "                        <td id=\"T_0706a_row1_col10\" class=\"data row1 col10\" >0.232331</td>\n",
       "            </tr>\n",
       "            <tr>\n",
       "                        <th id=\"T_0706a_level0_row2\" class=\"row_heading level0 row2\" >hypertension</th>\n",
       "                        <td id=\"T_0706a_row2_col0\" class=\"data row2 col0\" >0.021578</td>\n",
       "                        <td id=\"T_0706a_row2_col1\" class=\"data row2 col1\" >0.274425</td>\n",
       "                        <td id=\"T_0706a_row2_col2\" class=\"data row2 col2\" >1.000000</td>\n",
       "                        <td id=\"T_0706a_row2_col3\" class=\"data row2 col3\" >0.115991</td>\n",
       "                        <td id=\"T_0706a_row2_col4\" class=\"data row2 col4\" >0.162406</td>\n",
       "                        <td id=\"T_0706a_row2_col5\" class=\"data row2 col5\" >-0.052750</td>\n",
       "                        <td id=\"T_0706a_row2_col6\" class=\"data row2 col6\" >-0.001074</td>\n",
       "                        <td id=\"T_0706a_row2_col7\" class=\"data row2 col7\" >0.180543</td>\n",
       "                        <td id=\"T_0706a_row2_col8\" class=\"data row2 col8\" >0.167811</td>\n",
       "                        <td id=\"T_0706a_row2_col9\" class=\"data row2 col9\" >0.110808</td>\n",
       "                        <td id=\"T_0706a_row2_col10\" class=\"data row2 col10\" >0.142515</td>\n",
       "            </tr>\n",
       "            <tr>\n",
       "                        <th id=\"T_0706a_level0_row3\" class=\"row_heading level0 row3\" >heart_disease</th>\n",
       "                        <td id=\"T_0706a_row3_col0\" class=\"data row3 col0\" >0.082712</td>\n",
       "                        <td id=\"T_0706a_row3_col1\" class=\"data row3 col1\" >0.257123</td>\n",
       "                        <td id=\"T_0706a_row3_col2\" class=\"data row3 col2\" >0.115991</td>\n",
       "                        <td id=\"T_0706a_row3_col3\" class=\"data row3 col3\" >1.000000</td>\n",
       "                        <td id=\"T_0706a_row3_col4\" class=\"data row3 col4\" >0.111245</td>\n",
       "                        <td id=\"T_0706a_row3_col5\" class=\"data row3 col5\" >-0.030373</td>\n",
       "                        <td id=\"T_0706a_row3_col6\" class=\"data row3 col6\" >-0.002362</td>\n",
       "                        <td id=\"T_0706a_row3_col7\" class=\"data row3 col7\" >0.154525</td>\n",
       "                        <td id=\"T_0706a_row3_col8\" class=\"data row3 col8\" >0.041357</td>\n",
       "                        <td id=\"T_0706a_row3_col9\" class=\"data row3 col9\" >0.055236</td>\n",
       "                        <td id=\"T_0706a_row3_col10\" class=\"data row3 col10\" >0.137938</td>\n",
       "            </tr>\n",
       "            <tr>\n",
       "                        <th id=\"T_0706a_level0_row4\" class=\"row_heading level0 row4\" >ever_married</th>\n",
       "                        <td id=\"T_0706a_row4_col0\" class=\"data row4 col0\" >-0.037237</td>\n",
       "                        <td id=\"T_0706a_row4_col1\" class=\"data row4 col1\" >0.680782</td>\n",
       "                        <td id=\"T_0706a_row4_col2\" class=\"data row4 col2\" >0.162406</td>\n",
       "                        <td id=\"T_0706a_row4_col3\" class=\"data row4 col3\" >0.111245</td>\n",
       "                        <td id=\"T_0706a_row4_col4\" class=\"data row4 col4\" >1.000000</td>\n",
       "                        <td id=\"T_0706a_row4_col5\" class=\"data row4 col5\" >-0.357946</td>\n",
       "                        <td id=\"T_0706a_row4_col6\" class=\"data row4 col6\" >0.004989</td>\n",
       "                        <td id=\"T_0706a_row4_col7\" class=\"data row4 col7\" >0.151377</td>\n",
       "                        <td id=\"T_0706a_row4_col8\" class=\"data row4 col8\" >0.341695</td>\n",
       "                        <td id=\"T_0706a_row4_col9\" class=\"data row4 col9\" >0.264642</td>\n",
       "                        <td id=\"T_0706a_row4_col10\" class=\"data row4 col10\" >0.105089</td>\n",
       "            </tr>\n",
       "            <tr>\n",
       "                        <th id=\"T_0706a_level0_row5\" class=\"row_heading level0 row5\" >work_type</th>\n",
       "                        <td id=\"T_0706a_row5_col0\" class=\"data row5 col0\" >0.058560</td>\n",
       "                        <td id=\"T_0706a_row5_col1\" class=\"data row5 col1\" >-0.366987</td>\n",
       "                        <td id=\"T_0706a_row5_col2\" class=\"data row5 col2\" >-0.052750</td>\n",
       "                        <td id=\"T_0706a_row5_col3\" class=\"data row5 col3\" >-0.030373</td>\n",
       "                        <td id=\"T_0706a_row5_col4\" class=\"data row5 col4\" >-0.357946</td>\n",
       "                        <td id=\"T_0706a_row5_col5\" class=\"data row5 col5\" >1.000000</td>\n",
       "                        <td id=\"T_0706a_row5_col6\" class=\"data row5 col6\" >-0.005422</td>\n",
       "                        <td id=\"T_0706a_row5_col7\" class=\"data row5 col7\" >-0.050581</td>\n",
       "                        <td id=\"T_0706a_row5_col8\" class=\"data row5 col8\" >-0.304876</td>\n",
       "                        <td id=\"T_0706a_row5_col9\" class=\"data row5 col9\" >-0.310911</td>\n",
       "                        <td id=\"T_0706a_row5_col10\" class=\"data row5 col10\" >-0.033756</td>\n",
       "            </tr>\n",
       "            <tr>\n",
       "                        <th id=\"T_0706a_level0_row6\" class=\"row_heading level0 row6\" >Residence_type</th>\n",
       "                        <td id=\"T_0706a_row6_col0\" class=\"data row6 col0\" >-0.005014</td>\n",
       "                        <td id=\"T_0706a_row6_col1\" class=\"data row6 col1\" >0.010948</td>\n",
       "                        <td id=\"T_0706a_row6_col2\" class=\"data row6 col2\" >-0.001074</td>\n",
       "                        <td id=\"T_0706a_row6_col3\" class=\"data row6 col3\" >-0.002362</td>\n",
       "                        <td id=\"T_0706a_row6_col4\" class=\"data row6 col4\" >0.004989</td>\n",
       "                        <td id=\"T_0706a_row6_col5\" class=\"data row6 col5\" >-0.005422</td>\n",
       "                        <td id=\"T_0706a_row6_col6\" class=\"data row6 col6\" >1.000000</td>\n",
       "                        <td id=\"T_0706a_row6_col7\" class=\"data row6 col7\" >-0.007617</td>\n",
       "                        <td id=\"T_0706a_row6_col8\" class=\"data row6 col8\" >-0.000122</td>\n",
       "                        <td id=\"T_0706a_row6_col9\" class=\"data row6 col9\" >0.013810</td>\n",
       "                        <td id=\"T_0706a_row6_col10\" class=\"data row6 col10\" >0.006031</td>\n",
       "            </tr>\n",
       "            <tr>\n",
       "                        <th id=\"T_0706a_level0_row7\" class=\"row_heading level0 row7\" >avg_glucose_level</th>\n",
       "                        <td id=\"T_0706a_row7_col0\" class=\"data row7 col0\" >0.053664</td>\n",
       "                        <td id=\"T_0706a_row7_col1\" class=\"data row7 col1\" >0.235838</td>\n",
       "                        <td id=\"T_0706a_row7_col2\" class=\"data row7 col2\" >0.180543</td>\n",
       "                        <td id=\"T_0706a_row7_col3\" class=\"data row7 col3\" >0.154525</td>\n",
       "                        <td id=\"T_0706a_row7_col4\" class=\"data row7 col4\" >0.151377</td>\n",
       "                        <td id=\"T_0706a_row7_col5\" class=\"data row7 col5\" >-0.050581</td>\n",
       "                        <td id=\"T_0706a_row7_col6\" class=\"data row7 col6\" >-0.007617</td>\n",
       "                        <td id=\"T_0706a_row7_col7\" class=\"data row7 col7\" >1.000000</td>\n",
       "                        <td id=\"T_0706a_row7_col8\" class=\"data row7 col8\" >0.175502</td>\n",
       "                        <td id=\"T_0706a_row7_col9\" class=\"data row7 col9\" >0.066335</td>\n",
       "                        <td id=\"T_0706a_row7_col10\" class=\"data row7 col10\" >0.138936</td>\n",
       "            </tr>\n",
       "            <tr>\n",
       "                        <th id=\"T_0706a_level0_row8\" class=\"row_heading level0 row8\" >bmi</th>\n",
       "                        <td id=\"T_0706a_row8_col0\" class=\"data row8 col0\" >-0.026678</td>\n",
       "                        <td id=\"T_0706a_row8_col1\" class=\"data row8 col1\" >0.333398</td>\n",
       "                        <td id=\"T_0706a_row8_col2\" class=\"data row8 col2\" >0.167811</td>\n",
       "                        <td id=\"T_0706a_row8_col3\" class=\"data row8 col3\" >0.041357</td>\n",
       "                        <td id=\"T_0706a_row8_col4\" class=\"data row8 col4\" >0.341695</td>\n",
       "                        <td id=\"T_0706a_row8_col5\" class=\"data row8 col5\" >-0.304876</td>\n",
       "                        <td id=\"T_0706a_row8_col6\" class=\"data row8 col6\" >-0.000122</td>\n",
       "                        <td id=\"T_0706a_row8_col7\" class=\"data row8 col7\" >0.175502</td>\n",
       "                        <td id=\"T_0706a_row8_col8\" class=\"data row8 col8\" >1.000000</td>\n",
       "                        <td id=\"T_0706a_row8_col9\" class=\"data row8 col9\" >0.224473</td>\n",
       "                        <td id=\"T_0706a_row8_col10\" class=\"data row8 col10\" >0.042374</td>\n",
       "            </tr>\n",
       "            <tr>\n",
       "                        <th id=\"T_0706a_level0_row9\" class=\"row_heading level0 row9\" >smoking_status</th>\n",
       "                        <td id=\"T_0706a_row9_col0\" class=\"data row9 col0\" >-0.060004</td>\n",
       "                        <td id=\"T_0706a_row9_col1\" class=\"data row9 col1\" >0.275515</td>\n",
       "                        <td id=\"T_0706a_row9_col2\" class=\"data row9 col2\" >0.110808</td>\n",
       "                        <td id=\"T_0706a_row9_col3\" class=\"data row9 col3\" >0.055236</td>\n",
       "                        <td id=\"T_0706a_row9_col4\" class=\"data row9 col4\" >0.264642</td>\n",
       "                        <td id=\"T_0706a_row9_col5\" class=\"data row9 col5\" >-0.310911</td>\n",
       "                        <td id=\"T_0706a_row9_col6\" class=\"data row9 col6\" >0.013810</td>\n",
       "                        <td id=\"T_0706a_row9_col7\" class=\"data row9 col7\" >0.066335</td>\n",
       "                        <td id=\"T_0706a_row9_col8\" class=\"data row9 col8\" >0.224473</td>\n",
       "                        <td id=\"T_0706a_row9_col9\" class=\"data row9 col9\" >1.000000</td>\n",
       "                        <td id=\"T_0706a_row9_col10\" class=\"data row9 col10\" >0.051558</td>\n",
       "            </tr>\n",
       "            <tr>\n",
       "                        <th id=\"T_0706a_level0_row10\" class=\"row_heading level0 row10\" >stroke</th>\n",
       "                        <td id=\"T_0706a_row10_col0\" class=\"data row10 col0\" >0.006757</td>\n",
       "                        <td id=\"T_0706a_row10_col1\" class=\"data row10 col1\" >0.232331</td>\n",
       "                        <td id=\"T_0706a_row10_col2\" class=\"data row10 col2\" >0.142515</td>\n",
       "                        <td id=\"T_0706a_row10_col3\" class=\"data row10 col3\" >0.137938</td>\n",
       "                        <td id=\"T_0706a_row10_col4\" class=\"data row10 col4\" >0.105089</td>\n",
       "                        <td id=\"T_0706a_row10_col5\" class=\"data row10 col5\" >-0.033756</td>\n",
       "                        <td id=\"T_0706a_row10_col6\" class=\"data row10 col6\" >0.006031</td>\n",
       "                        <td id=\"T_0706a_row10_col7\" class=\"data row10 col7\" >0.138936</td>\n",
       "                        <td id=\"T_0706a_row10_col8\" class=\"data row10 col8\" >0.042374</td>\n",
       "                        <td id=\"T_0706a_row10_col9\" class=\"data row10 col9\" >0.051558</td>\n",
       "                        <td id=\"T_0706a_row10_col10\" class=\"data row10 col10\" >1.000000</td>\n",
       "            </tr>\n",
       "    </tbody></table>"
      ],
      "text/plain": [
       "<pandas.io.formats.style.Styler at 0x1acee8498e0>"
      ]
     },
     "execution_count": 35,
     "metadata": {},
     "output_type": "execute_result"
    }
   ],
   "source": [
    "f_data.corr().style.background_gradient(cmap='GnBu')"
   ]
  },
  {
   "cell_type": "code",
   "execution_count": 36,
   "id": "1f44ee91",
   "metadata": {},
   "outputs": [],
   "source": [
    "X=f_data.drop('stroke',axis='columns') #Extracting features\n",
    "y=bs['stroke'] #target variable"
   ]
  },
  {
   "cell_type": "code",
   "execution_count": 37,
   "id": "4850ed0f",
   "metadata": {},
   "outputs": [
    {
     "name": "stdout",
     "output_type": "stream",
     "text": [
      "Shape of training data (3927, 10) (3927,)\n",
      "Shape of testing data (982, 10) (982,)\n"
     ]
    }
   ],
   "source": [
    "from sklearn.model_selection import train_test_split #\n",
    "X_train, X_test, y_train, y_test = train_test_split(X, y, test_size=0.20)\n",
    "print(\"Shape of training data\", X_train.shape, y_train.shape)\n",
    "print(\"Shape of testing data\", X_test.shape, y_test.shape)"
   ]
  },
  {
   "cell_type": "markdown",
   "id": "45397d4f",
   "metadata": {},
   "source": [
    "# Logistic Regression"
   ]
  },
  {
   "cell_type": "code",
   "execution_count": 38,
   "id": "d8f0534c",
   "metadata": {},
   "outputs": [
    {
     "data": {
      "text/plain": [
       "LogisticRegression()"
      ]
     },
     "execution_count": 38,
     "metadata": {},
     "output_type": "execute_result"
    }
   ],
   "source": [
    "from sklearn.linear_model import LogisticRegression\n",
    "lr = LogisticRegression()\n",
    "lr.fit(X_train,y_train)"
   ]
  },
  {
   "cell_type": "code",
   "execution_count": 39,
   "id": "1115f477",
   "metadata": {},
   "outputs": [
    {
     "name": "stdout",
     "output_type": "stream",
     "text": [
      "Accuracy_score:0.9592668024439919\n",
      "[[940   2]\n",
      " [ 38   2]]\n",
      "              precision    recall  f1-score   support\n",
      "\n",
      "          No       0.96      1.00      0.98       942\n",
      "         Yes       0.50      0.05      0.09        40\n",
      "\n",
      "    accuracy                           0.96       982\n",
      "   macro avg       0.73      0.52      0.54       982\n",
      "weighted avg       0.94      0.96      0.94       982\n",
      "\n"
     ]
    }
   ],
   "source": [
    "from sklearn.metrics import confusion_matrix,  classification_report, accuracy_score\n",
    "\n",
    "y_pred = lr.predict(X_test)\n",
    "cm = confusion_matrix(y_test,y_pred)\n",
    "cr =  classification_report(y_test,y_pred)\n",
    "ac =  accuracy_score(y_test,y_pred)\n",
    "\n",
    "print(f\"Accuracy_score:{ac}\\n{cm}\\n{cr}\")"
   ]
  },
  {
   "cell_type": "code",
   "execution_count": 40,
   "id": "cb9b7115",
   "metadata": {},
   "outputs": [
    {
     "name": "stdout",
     "output_type": "stream",
     "text": [
      "Testing accuracy:0.9592668024439919\n",
      " Training accuracy:0.9572192513368984\n"
     ]
    }
   ],
   "source": [
    "train = lr.score(X_train,y_train)\n",
    "test = lr.score(X_test,y_test)\n",
    "print(f\"Testing accuracy:{test}\\n Training accuracy:{train}\")"
   ]
  },
  {
   "cell_type": "code",
   "execution_count": null,
   "id": "6916c69a",
   "metadata": {},
   "outputs": [],
   "source": []
  },
  {
   "cell_type": "markdown",
   "id": "d219d8c4",
   "metadata": {},
   "source": [
    "# Support Vector Machine"
   ]
  },
  {
   "cell_type": "code",
   "execution_count": 41,
   "id": "5cabf6df",
   "metadata": {},
   "outputs": [
    {
     "data": {
      "text/plain": [
       "SVC()"
      ]
     },
     "execution_count": 41,
     "metadata": {},
     "output_type": "execute_result"
    }
   ],
   "source": [
    "from sklearn.svm import SVC\n",
    "\n",
    "svm=SVC() \n",
    "svm.fit(X_train,y_train)"
   ]
  },
  {
   "cell_type": "code",
   "execution_count": 42,
   "id": "5df85a0a",
   "metadata": {},
   "outputs": [
    {
     "name": "stdout",
     "output_type": "stream",
     "text": [
      "Accuracy_score:0.9592668024439919\n",
      "[[942   0]\n",
      " [ 40   0]]\n",
      "              precision    recall  f1-score   support\n",
      "\n",
      "          No       0.96      1.00      0.98       942\n",
      "         Yes       0.00      0.00      0.00        40\n",
      "\n",
      "    accuracy                           0.96       982\n",
      "   macro avg       0.48      0.50      0.49       982\n",
      "weighted avg       0.92      0.96      0.94       982\n",
      "\n"
     ]
    }
   ],
   "source": [
    "from sklearn.metrics import confusion_matrix,  classification_report, accuracy_score\n",
    "\n",
    "y_pred = svm.predict(X_test)\n",
    "cm = confusion_matrix(y_test,y_pred)\n",
    "cr =  classification_report(y_test,y_pred)\n",
    "ac =  accuracy_score(y_test,y_pred)\n",
    "\n",
    "print(f\"Accuracy_score:{ac}\\n{cm}\\n{cr}\")"
   ]
  },
  {
   "cell_type": "code",
   "execution_count": 43,
   "id": "2cdd174e",
   "metadata": {},
   "outputs": [
    {
     "name": "stdout",
     "output_type": "stream",
     "text": [
      "Testing accuracy:0.9592668024439919\n",
      " Taining accuracy:0.9569646040234275\n"
     ]
    }
   ],
   "source": [
    "train = svm.score(X_train,y_train)\n",
    "test = svm.score(X_test,y_test)\n",
    "print(f\"Testing accuracy:{test}\\n Taining accuracy:{train}\")"
   ]
  },
  {
   "cell_type": "markdown",
   "id": "bf6eb2ed",
   "metadata": {},
   "source": [
    "# RandomForestClassifier"
   ]
  },
  {
   "cell_type": "code",
   "execution_count": 44,
   "id": "d9e84f14",
   "metadata": {},
   "outputs": [
    {
     "data": {
      "text/plain": [
       "RandomForestClassifier()"
      ]
     },
     "execution_count": 44,
     "metadata": {},
     "output_type": "execute_result"
    }
   ],
   "source": [
    "from sklearn.ensemble import RandomForestClassifier\n",
    "rf_clf = RandomForestClassifier()\n",
    "rf_clf.fit(X_train,y_train)"
   ]
  },
  {
   "cell_type": "code",
   "execution_count": 45,
   "id": "28c04ebd",
   "metadata": {},
   "outputs": [
    {
     "name": "stdout",
     "output_type": "stream",
     "text": [
      "Accuracy_score:0.9572301425661914\n",
      "[[940   2]\n",
      " [ 40   0]]\n",
      "              precision    recall  f1-score   support\n",
      "\n",
      "          No       0.96      1.00      0.98       942\n",
      "         Yes       0.00      0.00      0.00        40\n",
      "\n",
      "    accuracy                           0.96       982\n",
      "   macro avg       0.48      0.50      0.49       982\n",
      "weighted avg       0.92      0.96      0.94       982\n",
      "\n"
     ]
    }
   ],
   "source": [
    "from sklearn.metrics import confusion_matrix,  classification_report, accuracy_score\n",
    "\n",
    "y_pred = rf_clf.predict(X_test)\n",
    "cm = confusion_matrix(y_test,y_pred)\n",
    "cr =  classification_report(y_test,y_pred)\n",
    "ac =  accuracy_score(y_test,y_pred)\n",
    "\n",
    "print(f\"Accuracy_score:{ac}\\n{cm}\\n{cr}\")"
   ]
  },
  {
   "cell_type": "code",
   "execution_count": 46,
   "id": "789d6aee",
   "metadata": {},
   "outputs": [
    {
     "name": "stdout",
     "output_type": "stream",
     "text": [
      "Testing accuracy:0.9572301425661914\n",
      " Taining accuracy:1.0\n"
     ]
    }
   ],
   "source": [
    "train = rf_clf.score(X_train,y_train)\n",
    "test = rf_clf.score(X_test,y_test)\n",
    "print(f\"Testing accuracy:{test}\\n Taining accuracy:{train}\")"
   ]
  },
  {
   "cell_type": "code",
   "execution_count": null,
   "id": "973e357c",
   "metadata": {},
   "outputs": [],
   "source": []
  },
  {
   "cell_type": "markdown",
   "id": "8c761b62",
   "metadata": {},
   "source": [
    "# KNeighbors Classifier"
   ]
  },
  {
   "cell_type": "code",
   "execution_count": 47,
   "id": "ee82a5b5",
   "metadata": {},
   "outputs": [
    {
     "data": {
      "text/plain": [
       "KNeighborsClassifier()"
      ]
     },
     "execution_count": 47,
     "metadata": {},
     "output_type": "execute_result"
    }
   ],
   "source": [
    "from sklearn.neighbors import KNeighborsClassifier\n",
    "kn_clf = KNeighborsClassifier()\n",
    "kn_clf.fit(X_train,y_train)"
   ]
  },
  {
   "cell_type": "code",
   "execution_count": 48,
   "id": "72ad4642",
   "metadata": {},
   "outputs": [
    {
     "name": "stdout",
     "output_type": "stream",
     "text": [
      "Accuracy_score:0.9562118126272913\n",
      "[[939   3]\n",
      " [ 40   0]]\n",
      "              precision    recall  f1-score   support\n",
      "\n",
      "          No       0.96      1.00      0.98       942\n",
      "         Yes       0.00      0.00      0.00        40\n",
      "\n",
      "    accuracy                           0.96       982\n",
      "   macro avg       0.48      0.50      0.49       982\n",
      "weighted avg       0.92      0.96      0.94       982\n",
      "\n"
     ]
    }
   ],
   "source": [
    "from sklearn.metrics import confusion_matrix,  classification_report, accuracy_score\n",
    "\n",
    "y_pred =kn_clf.predict(X_test)\n",
    "cm = confusion_matrix(y_test,y_pred)\n",
    "cr =  classification_report(y_test,y_pred)\n",
    "ac =  accuracy_score(y_test,y_pred)\n",
    "\n",
    "print(f\"Accuracy_score:{ac}\\n{cm}\\n{cr}\")"
   ]
  },
  {
   "cell_type": "code",
   "execution_count": 49,
   "id": "7a9635d2",
   "metadata": {},
   "outputs": [
    {
     "name": "stdout",
     "output_type": "stream",
     "text": [
      "Testing accuracy:0.9562118126272913\n",
      " Taining accuracy:0.9572192513368984\n"
     ]
    }
   ],
   "source": [
    "train = kn_clf.score(X_train,y_train)\n",
    "test = kn_clf.score(X_test,y_test)\n",
    "print(f\"Testing accuracy:{test}\\n Taining accuracy:{train}\")"
   ]
  },
  {
   "cell_type": "code",
   "execution_count": null,
   "id": "4c22fdea",
   "metadata": {},
   "outputs": [],
   "source": []
  },
  {
   "cell_type": "code",
   "execution_count": 50,
   "id": "fcd5944f",
   "metadata": {},
   "outputs": [
    {
     "data": {
      "text/plain": [
       "DecisionTreeClassifier()"
      ]
     },
     "execution_count": 50,
     "metadata": {},
     "output_type": "execute_result"
    }
   ],
   "source": [
    "from sklearn.tree import DecisionTreeClassifier\n",
    "dt_clf = DecisionTreeClassifier()\n",
    "dt_clf.fit(X_train,y_train)"
   ]
  },
  {
   "cell_type": "code",
   "execution_count": 51,
   "id": "ebd1ea85",
   "metadata": {},
   "outputs": [
    {
     "name": "stdout",
     "output_type": "stream",
     "text": [
      "Accuracy_score:0.9307535641547862\n",
      "[[905  37]\n",
      " [ 31   9]]\n",
      "              precision    recall  f1-score   support\n",
      "\n",
      "          No       0.97      0.96      0.96       942\n",
      "         Yes       0.20      0.23      0.21        40\n",
      "\n",
      "    accuracy                           0.93       982\n",
      "   macro avg       0.58      0.59      0.59       982\n",
      "weighted avg       0.94      0.93      0.93       982\n",
      "\n"
     ]
    }
   ],
   "source": [
    "from sklearn.metrics import confusion_matrix,  classification_report, accuracy_score\n",
    "\n",
    "y_pred =dt_clf.predict(X_test)\n",
    "cm = confusion_matrix(y_test,y_pred)\n",
    "cr =  classification_report(y_test,y_pred)\n",
    "ac =  accuracy_score(y_test,y_pred)\n",
    "\n",
    "print(f\"Accuracy_score:{ac}\\n{cm}\\n{cr}\")"
   ]
  },
  {
   "cell_type": "code",
   "execution_count": 52,
   "id": "8e710c07",
   "metadata": {},
   "outputs": [
    {
     "name": "stdout",
     "output_type": "stream",
     "text": [
      "Testing accuracy:0.9307535641547862\n",
      " Taining accuracy:1.0\n"
     ]
    }
   ],
   "source": [
    "train = dt_clf.score(X_train,y_train)\n",
    "test = dt_clf.score(X_test,y_test)\n",
    "print(f\"Testing accuracy:{test}\\n Taining accuracy:{train}\")"
   ]
  },
  {
   "cell_type": "code",
   "execution_count": null,
   "id": "37750ef2",
   "metadata": {},
   "outputs": [],
   "source": []
  },
  {
   "cell_type": "code",
   "execution_count": null,
   "id": "ef250947",
   "metadata": {},
   "outputs": [],
   "source": []
  },
  {
   "cell_type": "code",
   "execution_count": 53,
   "id": "b7b04295",
   "metadata": {},
   "outputs": [
    {
     "name": "stdout",
     "output_type": "stream",
     "text": [
      "(80, 20) (20, 20)\n"
     ]
    }
   ],
   "source": [
    "from sklearn import datasets\n",
    "from sklearn.model_selection import train_test_split\n",
    "from sklearn.ensemble import RandomForestClassifier\n",
    "from sklearn import metrics\n",
    "\n",
    "\n",
    "X, y = datasets.make_classification()\n",
    "X_train, X_val, y_train, y_val = train_test_split(X,\n",
    "                                                  y,\n",
    "                                                  test_size = 0.20,\n",
    "                                                  random_state=2022)\n",
    "print(X_train.shape, X_val.shape)"
   ]
  },
  {
   "cell_type": "code",
   "execution_count": 54,
   "id": "f921aad2",
   "metadata": {},
   "outputs": [
    {
     "name": "stdout",
     "output_type": "stream",
     "text": [
      "Training Accuracy :  100.0\n",
      "Validation Accuracy :  95.0\n"
     ]
    }
   ],
   "source": [
    "bs = RandomForestClassifier()\n",
    "bs.fit(X_train, y_train)\n",
    "print('Training Accuracy : ',\n",
    "      metrics.accuracy_score(y_train,\n",
    "                             bs.predict(X_train))*100)\n",
    "print('Validation Accuracy : ',\n",
    "      metrics.accuracy_score(y_val,\n",
    "                             bs.predict(X_val))*100)"
   ]
  },
  {
   "cell_type": "code",
   "execution_count": 55,
   "id": "d4305c5d",
   "metadata": {},
   "outputs": [
    {
     "name": "stdout",
     "output_type": "stream",
     "text": [
      "Training Accuracy :  95.0\n",
      "Validation Accuracy :  95.0\n"
     ]
    }
   ],
   "source": [
    "bs = RandomForestClassifier(max_depth=2,\n",
    "                               random_state=35)\n",
    "bs.fit(X_train, y_train)\n",
    "print('Training Accuracy : ',\n",
    "      metrics.accuracy_score(y_train,\n",
    "                             bs.predict(X_train))*100)\n",
    "print('Validation Accuracy : ',\n",
    "      metrics.accuracy_score(y_val,\n",
    "                             bs.predict(X_val))*100)"
   ]
  },
  {
   "cell_type": "code",
   "execution_count": 56,
   "id": "ce604d92",
   "metadata": {},
   "outputs": [
    {
     "name": "stdout",
     "output_type": "stream",
     "text": [
      "Training Accuracy :  100.0\n",
      "Validation Accuracy :  95.0\n"
     ]
    }
   ],
   "source": [
    "bs = RandomForestClassifier(n_estimators=30,\n",
    "                               random_state=22)\n",
    "bs.fit(X_train, y_train)\n",
    "print('Training Accuracy : ',\n",
    "      metrics.accuracy_score(y_train,\n",
    "                             bs.predict(X_train))*100)\n",
    "print('Validation Accuracy : ',\n",
    "      metrics.accuracy_score(y_val,\n",
    "                             bs.predict(X_val))*100)"
   ]
  },
  {
   "cell_type": "code",
   "execution_count": 68,
   "id": "5e759f35",
   "metadata": {},
   "outputs": [
    {
     "name": "stdout",
     "output_type": "stream",
     "text": [
      "Training Accuracy :  90.0\n",
      "Validation Accuracy :  95.0\n"
     ]
    }
   ],
   "source": [
    "bs = RandomForestClassifier(\n",
    "    max_depth=2, n_estimators=30,\n",
    "    min_samples_split=3, max_leaf_nodes=3,\n",
    "    random_state=22)\n",
    " \n",
    "bs.fit(X_train, y_train)\n",
    "print('Training Accuracy : ',\n",
    "      metrics.accuracy_score(\n",
    "          y_train, bs.predict(X_train))*100)\n",
    " \n",
    "print('Validation Accuracy : ', metrics.accuracy_score(\n",
    "    y_val, bs.predict(X_val))*100)"
   ]
  },
  {
   "cell_type": "code",
   "execution_count": 58,
   "id": "0e3a515b",
   "metadata": {},
   "outputs": [
    {
     "name": "stdout",
     "output_type": "stream",
     "text": [
      "(80, 20) (20, 20)\n"
     ]
    }
   ],
   "source": [
    "from sklearn import datasets\n",
    "from sklearn.model_selection import train_test_split\n",
    "from sklearn.tree import DecisionTreeClassifier\n",
    "from sklearn import metrics\n",
    "\n",
    "\n",
    "X, y = datasets.make_classification()\n",
    "X_train, X_val, y_train, y_val = train_test_split(X,\n",
    "                                                  y,\n",
    "                                                  test_size = 0.20,\n",
    "                                                  random_state=2022)\n",
    "print(X_train.shape, X_val.shape)"
   ]
  },
  {
   "cell_type": "code",
   "execution_count": 61,
   "id": "7e82d58d",
   "metadata": {},
   "outputs": [
    {
     "name": "stdout",
     "output_type": "stream",
     "text": [
      "Training Accuracy :  100.0\n",
      "Validation Accuracy :  90.0\n"
     ]
    }
   ],
   "source": [
    "dl = DecisionTreeClassifier()\n",
    "dl.fit(X_train, y_train)\n",
    "print('Training Accuracy : ',\n",
    "      metrics.accuracy_score(y_train,\n",
    "                             dl.predict(X_train))*100)\n",
    "print('Validation Accuracy : ',\n",
    "      metrics.accuracy_score(y_val,\n",
    "                             dl.predict(X_val))*100)"
   ]
  },
  {
   "cell_type": "code",
   "execution_count": 67,
   "id": "5e13ef2b",
   "metadata": {},
   "outputs": [
    {
     "name": "stdout",
     "output_type": "stream",
     "text": [
      "Training Accuracy :  92.5\n",
      "Validation Accuracy :  85.0\n"
     ]
    }
   ],
   "source": [
    "dl = DecisionTreeClassifier(\n",
    "    max_depth=2,\n",
    "    random_state=24)\n",
    "\n",
    "dl.fit(X_train, y_train)\n",
    "print('Training Accuracy : ',\n",
    "      metrics.accuracy_score(y_train,\n",
    "                             dl.predict(X_train))*100)\n",
    "print('Validation Accuracy : ',\n",
    "      metrics.accuracy_score(y_val,\n",
    "                             dl.predict(X_val))*100)"
   ]
  },
  {
   "cell_type": "code",
   "execution_count": null,
   "id": "ffad12b7",
   "metadata": {},
   "outputs": [],
   "source": []
  },
  {
   "cell_type": "code",
   "execution_count": null,
   "id": "65a1b34e",
   "metadata": {},
   "outputs": [],
   "source": []
  }
 ],
 "metadata": {
  "kernelspec": {
   "display_name": "Python 3",
   "language": "python",
   "name": "python3"
  },
  "language_info": {
   "codemirror_mode": {
    "name": "ipython",
    "version": 3
   },
   "file_extension": ".py",
   "mimetype": "text/x-python",
   "name": "python",
   "nbconvert_exporter": "python",
   "pygments_lexer": "ipython3",
   "version": "3.8.8"
  }
 },
 "nbformat": 4,
 "nbformat_minor": 5
}
